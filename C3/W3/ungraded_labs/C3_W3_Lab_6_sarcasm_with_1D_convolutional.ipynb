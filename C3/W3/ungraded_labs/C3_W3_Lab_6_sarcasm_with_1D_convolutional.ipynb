{
  "nbformat": 4,
  "nbformat_minor": 0,
  "metadata": {
    "accelerator": "GPU",
    "colab": {
      "name": "C3_W3_Lab_6_sarcasm_with_1D_convolutional.ipynb",
      "provenance": [],
      "collapsed_sections": [],
      "toc_visible": true,
      "include_colab_link": true
    },
    "kernelspec": {
      "display_name": "Python 3",
      "language": "python",
      "name": "python3"
    },
    "language_info": {
      "codemirror_mode": {
        "name": "ipython",
        "version": 3
      },
      "file_extension": ".py",
      "mimetype": "text/x-python",
      "name": "python",
      "nbconvert_exporter": "python",
      "pygments_lexer": "ipython3",
      "version": "3.8.5"
    }
  },
  "cells": [
    {
      "cell_type": "markdown",
      "metadata": {
        "id": "view-in-github",
        "colab_type": "text"
      },
      "source": [
        "<a href=\"https://colab.research.google.com/github/attackgnome/TensorFlowCourses/blob/master/C3/W3/ungraded_labs/C3_W3_Lab_6_sarcasm_with_1D_convolutional.ipynb\" target=\"_parent\"><img src=\"https://colab.research.google.com/assets/colab-badge.svg\" alt=\"Open In Colab\"/></a>"
      ]
    },
    {
      "cell_type": "code",
      "metadata": {
        "id": "zX4Kg8DUTKWO"
      },
      "source": [
        "#@title Licensed under the Apache License, Version 2.0 (the \"License\");\n",
        "# you may not use this file except in compliance with the License.\n",
        "# You may obtain a copy of the License at\n",
        "#\n",
        "# https://www.apache.org/licenses/LICENSE-2.0\n",
        "#\n",
        "# Unless required by applicable law or agreed to in writing, software\n",
        "# distributed under the License is distributed on an \"AS IS\" BASIS,\n",
        "# WITHOUT WARRANTIES OR CONDITIONS OF ANY KIND, either express or implied.\n",
        "# See the License for the specific language governing permissions and\n",
        "# limitations under the License."
      ],
      "execution_count": 1,
      "outputs": []
    },
    {
      "cell_type": "markdown",
      "metadata": {
        "id": "mUPYeXlcPewR"
      },
      "source": [
        "**IMPORTANT NOTE:** This notebook is designed to run as a Colab. Click the button on top that says, `Open in Colab`, to run this notebook as a Colab. Running the notebook on your local machine might result in some of the code blocks throwing errors."
      ]
    },
    {
      "cell_type": "markdown",
      "metadata": {
        "id": "raWPUZrePewR"
      },
      "source": [
        "**Note:** This notebook can run using TensorFlow 2.5.0"
      ]
    },
    {
      "cell_type": "code",
      "metadata": {
        "id": "EmYnth-EPewR"
      },
      "source": [
        "#!pip install tensorflow==2.5.0"
      ],
      "execution_count": 2,
      "outputs": []
    },
    {
      "cell_type": "code",
      "metadata": {
        "colab": {
          "base_uri": "https://localhost:8080/"
        },
        "id": "jGwXGIXvFhXW",
        "outputId": "d7c962a3-e90a-4f66-d913-cee46217912f"
      },
      "source": [
        "import numpy as np\n",
        "\n",
        "import json\n",
        "import tensorflow as tf\n",
        "\n",
        "from tensorflow.keras.preprocessing.text import Tokenizer\n",
        "from tensorflow.keras.preprocessing.sequence import pad_sequences\n",
        "\n",
        "# sarcasm.json\n",
        "!gdown --id 1xRU3xY5-tkiPGvlz5xBJ18_pHWSRzI4v\n",
        "\n",
        "vocab_size = 1000\n",
        "embedding_dim = 16\n",
        "max_length = 120\n",
        "trunc_type='post'\n",
        "padding_type='post'\n",
        "oov_tok = \"<OOV>\"\n",
        "training_size = 20000\n",
        "\n",
        "\n",
        "with open(\"./sarcasm.json\", 'r') as f:\n",
        "    datastore = json.load(f)\n",
        "\n",
        "\n",
        "sentences = []\n",
        "labels = []\n",
        "urls = []\n",
        "for item in datastore:\n",
        "    sentences.append(item['headline'])\n",
        "    labels.append(item['is_sarcastic'])\n",
        "\n",
        "training_sentences = sentences[0:training_size]\n",
        "testing_sentences = sentences[training_size:]\n",
        "training_labels = labels[0:training_size]\n",
        "testing_labels = labels[training_size:]\n",
        "\n",
        "tokenizer = Tokenizer(num_words=vocab_size, oov_token=oov_tok)\n",
        "tokenizer.fit_on_texts(training_sentences)\n",
        "\n",
        "word_index = tokenizer.word_index\n",
        "\n",
        "training_sequences = tokenizer.texts_to_sequences(training_sentences)\n",
        "training_padded = pad_sequences(training_sequences, maxlen=max_length, padding=padding_type, truncating=trunc_type)\n",
        "\n",
        "testing_sequences = tokenizer.texts_to_sequences(testing_sentences)\n",
        "testing_padded = pad_sequences(testing_sequences, maxlen=max_length, padding=padding_type, truncating=trunc_type)\n",
        "\n",
        "model = tf.keras.Sequential([\n",
        "    tf.keras.layers.Embedding(vocab_size, embedding_dim, input_length=max_length),\n",
        "    tf.keras.layers.Conv1D(128, 5, activation='relu'),\n",
        "    tf.keras.layers.GlobalMaxPooling1D(),\n",
        "    tf.keras.layers.Dense(24, activation='relu'),\n",
        "    tf.keras.layers.Dense(1, activation='sigmoid')\n",
        "])\n",
        "model.compile(loss='binary_crossentropy',optimizer='adam',metrics=['accuracy'])\n",
        "model.summary()\n",
        "\n",
        "num_epochs = 50\n",
        "\n",
        "training_padded = np.array(training_padded)\n",
        "training_labels = np.array(training_labels)\n",
        "testing_padded = np.array(testing_padded)\n",
        "testing_labels = np.array(testing_labels)\n",
        "\n",
        "history = model.fit(training_padded, training_labels, epochs=num_epochs, validation_data=(testing_padded, testing_labels), verbose=1)\n"
      ],
      "execution_count": 6,
      "outputs": [
        {
          "output_type": "stream",
          "name": "stdout",
          "text": [
            "Downloading...\n",
            "From: https://drive.google.com/uc?id=1xRU3xY5-tkiPGvlz5xBJ18_pHWSRzI4v\n",
            "To: /content/sarcasm.json\n",
            "\r  0% 0.00/5.64M [00:00<?, ?B/s]\r100% 5.64M/5.64M [00:00<00:00, 88.7MB/s]\n",
            "Model: \"sequential\"\n",
            "_________________________________________________________________\n",
            " Layer (type)                Output Shape              Param #   \n",
            "=================================================================\n",
            " embedding (Embedding)       (None, 120, 16)           16000     \n",
            "                                                                 \n",
            " conv1d (Conv1D)             (None, 116, 128)          10368     \n",
            "                                                                 \n",
            " global_max_pooling1d (Globa  (None, 128)              0         \n",
            " lMaxPooling1D)                                                  \n",
            "                                                                 \n",
            " dense (Dense)               (None, 24)                3096      \n",
            "                                                                 \n",
            " dense_1 (Dense)             (None, 1)                 25        \n",
            "                                                                 \n",
            "=================================================================\n",
            "Total params: 29,489\n",
            "Trainable params: 29,489\n",
            "Non-trainable params: 0\n",
            "_________________________________________________________________\n",
            "Epoch 1/50\n",
            "625/625 [==============================] - 18s 8ms/step - loss: 0.4652 - accuracy: 0.7685 - val_loss: 0.4061 - val_accuracy: 0.8138\n",
            "Epoch 2/50\n",
            "625/625 [==============================] - 5s 7ms/step - loss: 0.3603 - accuracy: 0.8382 - val_loss: 0.4160 - val_accuracy: 0.8131\n",
            "Epoch 3/50\n",
            "625/625 [==============================] - 5s 8ms/step - loss: 0.3192 - accuracy: 0.8594 - val_loss: 0.3914 - val_accuracy: 0.8264\n",
            "Epoch 4/50\n",
            "625/625 [==============================] - 5s 8ms/step - loss: 0.2860 - accuracy: 0.8774 - val_loss: 0.4028 - val_accuracy: 0.8246\n",
            "Epoch 5/50\n",
            "625/625 [==============================] - 5s 8ms/step - loss: 0.2516 - accuracy: 0.8939 - val_loss: 0.4329 - val_accuracy: 0.8147\n",
            "Epoch 6/50\n",
            "625/625 [==============================] - 5s 8ms/step - loss: 0.2168 - accuracy: 0.9105 - val_loss: 0.4615 - val_accuracy: 0.8202\n",
            "Epoch 7/50\n",
            "625/625 [==============================] - 5s 8ms/step - loss: 0.1853 - accuracy: 0.9269 - val_loss: 0.5074 - val_accuracy: 0.8068\n",
            "Epoch 8/50\n",
            "625/625 [==============================] - 5s 8ms/step - loss: 0.1572 - accuracy: 0.9387 - val_loss: 0.5530 - val_accuracy: 0.8031\n",
            "Epoch 9/50\n",
            "625/625 [==============================] - 5s 8ms/step - loss: 0.1296 - accuracy: 0.9520 - val_loss: 0.6300 - val_accuracy: 0.8067\n",
            "Epoch 10/50\n",
            "625/625 [==============================] - 5s 8ms/step - loss: 0.1068 - accuracy: 0.9613 - val_loss: 0.7350 - val_accuracy: 0.8044\n",
            "Epoch 11/50\n",
            "625/625 [==============================] - 5s 8ms/step - loss: 0.0886 - accuracy: 0.9679 - val_loss: 0.7727 - val_accuracy: 0.8015\n",
            "Epoch 12/50\n",
            "625/625 [==============================] - 5s 7ms/step - loss: 0.0738 - accuracy: 0.9736 - val_loss: 0.8789 - val_accuracy: 0.7943\n",
            "Epoch 13/50\n",
            "625/625 [==============================] - 5s 7ms/step - loss: 0.0650 - accuracy: 0.9758 - val_loss: 0.9809 - val_accuracy: 0.7965\n",
            "Epoch 14/50\n",
            "625/625 [==============================] - 5s 8ms/step - loss: 0.0573 - accuracy: 0.9786 - val_loss: 1.1048 - val_accuracy: 0.7943\n",
            "Epoch 15/50\n",
            "625/625 [==============================] - 5s 8ms/step - loss: 0.0488 - accuracy: 0.9822 - val_loss: 1.1471 - val_accuracy: 0.7886\n",
            "Epoch 16/50\n",
            "625/625 [==============================] - 5s 8ms/step - loss: 0.0449 - accuracy: 0.9833 - val_loss: 1.1938 - val_accuracy: 0.7934\n",
            "Epoch 17/50\n",
            "625/625 [==============================] - 5s 8ms/step - loss: 0.0411 - accuracy: 0.9844 - val_loss: 1.3222 - val_accuracy: 0.7821\n",
            "Epoch 18/50\n",
            "625/625 [==============================] - 5s 8ms/step - loss: 0.0421 - accuracy: 0.9830 - val_loss: 1.4473 - val_accuracy: 0.7909\n",
            "Epoch 19/50\n",
            "625/625 [==============================] - 5s 8ms/step - loss: 0.0402 - accuracy: 0.9844 - val_loss: 1.4881 - val_accuracy: 0.7873\n",
            "Epoch 20/50\n",
            "625/625 [==============================] - 5s 8ms/step - loss: 0.0356 - accuracy: 0.9867 - val_loss: 1.5747 - val_accuracy: 0.7879\n",
            "Epoch 21/50\n",
            "625/625 [==============================] - 5s 8ms/step - loss: 0.0322 - accuracy: 0.9869 - val_loss: 1.6917 - val_accuracy: 0.7888\n",
            "Epoch 22/50\n",
            "625/625 [==============================] - 5s 8ms/step - loss: 0.0342 - accuracy: 0.9860 - val_loss: 1.7304 - val_accuracy: 0.7897\n",
            "Epoch 23/50\n",
            "625/625 [==============================] - 5s 7ms/step - loss: 0.0370 - accuracy: 0.9854 - val_loss: 1.7427 - val_accuracy: 0.7803\n",
            "Epoch 24/50\n",
            "625/625 [==============================] - 5s 7ms/step - loss: 0.0361 - accuracy: 0.9853 - val_loss: 1.7507 - val_accuracy: 0.7779\n",
            "Epoch 25/50\n",
            "625/625 [==============================] - 5s 7ms/step - loss: 0.0313 - accuracy: 0.9876 - val_loss: 1.8971 - val_accuracy: 0.7794\n",
            "Epoch 26/50\n",
            "625/625 [==============================] - 5s 8ms/step - loss: 0.0249 - accuracy: 0.9896 - val_loss: 2.0129 - val_accuracy: 0.7858\n",
            "Epoch 27/50\n",
            "625/625 [==============================] - 5s 8ms/step - loss: 0.0246 - accuracy: 0.9894 - val_loss: 1.9031 - val_accuracy: 0.7883\n",
            "Epoch 28/50\n",
            "625/625 [==============================] - 5s 8ms/step - loss: 0.0337 - accuracy: 0.9859 - val_loss: 1.9200 - val_accuracy: 0.7898\n",
            "Epoch 29/50\n",
            "625/625 [==============================] - 5s 8ms/step - loss: 0.0365 - accuracy: 0.9857 - val_loss: 1.8422 - val_accuracy: 0.7806\n",
            "Epoch 30/50\n",
            "625/625 [==============================] - 5s 8ms/step - loss: 0.0287 - accuracy: 0.9880 - val_loss: 2.0157 - val_accuracy: 0.7873\n",
            "Epoch 31/50\n",
            "625/625 [==============================] - 5s 8ms/step - loss: 0.0244 - accuracy: 0.9902 - val_loss: 2.0702 - val_accuracy: 0.7846\n",
            "Epoch 32/50\n",
            "625/625 [==============================] - 5s 8ms/step - loss: 0.0248 - accuracy: 0.9891 - val_loss: 2.0566 - val_accuracy: 0.7861\n",
            "Epoch 33/50\n",
            "625/625 [==============================] - 5s 8ms/step - loss: 0.0241 - accuracy: 0.9897 - val_loss: 2.0605 - val_accuracy: 0.7861\n",
            "Epoch 34/50\n",
            "625/625 [==============================] - 5s 8ms/step - loss: 0.0247 - accuracy: 0.9897 - val_loss: 2.3277 - val_accuracy: 0.7880\n",
            "Epoch 35/50\n",
            "625/625 [==============================] - 5s 8ms/step - loss: 0.0263 - accuracy: 0.9886 - val_loss: 2.2098 - val_accuracy: 0.7898\n",
            "Epoch 36/50\n",
            "625/625 [==============================] - 5s 8ms/step - loss: 0.0250 - accuracy: 0.9891 - val_loss: 2.2429 - val_accuracy: 0.7861\n",
            "Epoch 37/50\n",
            "625/625 [==============================] - 5s 7ms/step - loss: 0.0211 - accuracy: 0.9911 - val_loss: 2.4314 - val_accuracy: 0.7843\n",
            "Epoch 38/50\n",
            "625/625 [==============================] - 5s 8ms/step - loss: 0.0237 - accuracy: 0.9895 - val_loss: 2.3344 - val_accuracy: 0.7791\n",
            "Epoch 39/50\n",
            "625/625 [==============================] - 5s 8ms/step - loss: 0.0313 - accuracy: 0.9868 - val_loss: 2.2883 - val_accuracy: 0.7840\n",
            "Epoch 40/50\n",
            "625/625 [==============================] - 5s 8ms/step - loss: 0.0259 - accuracy: 0.9889 - val_loss: 2.5168 - val_accuracy: 0.7860\n",
            "Epoch 41/50\n",
            "625/625 [==============================] - 5s 8ms/step - loss: 0.0196 - accuracy: 0.9914 - val_loss: 2.4180 - val_accuracy: 0.7869\n",
            "Epoch 42/50\n",
            "625/625 [==============================] - 5s 8ms/step - loss: 0.0175 - accuracy: 0.9916 - val_loss: 2.4819 - val_accuracy: 0.7886\n",
            "Epoch 43/50\n",
            "625/625 [==============================] - 5s 8ms/step - loss: 0.0242 - accuracy: 0.9888 - val_loss: 2.5708 - val_accuracy: 0.7855\n",
            "Epoch 44/50\n",
            "625/625 [==============================] - 5s 8ms/step - loss: 0.0272 - accuracy: 0.9884 - val_loss: 2.4132 - val_accuracy: 0.7879\n",
            "Epoch 45/50\n",
            "625/625 [==============================] - 5s 8ms/step - loss: 0.0245 - accuracy: 0.9896 - val_loss: 2.4728 - val_accuracy: 0.7922\n",
            "Epoch 46/50\n",
            "625/625 [==============================] - 5s 8ms/step - loss: 0.0241 - accuracy: 0.9897 - val_loss: 2.5623 - val_accuracy: 0.7851\n",
            "Epoch 47/50\n",
            "625/625 [==============================] - 5s 8ms/step - loss: 0.0242 - accuracy: 0.9899 - val_loss: 2.5026 - val_accuracy: 0.7815\n",
            "Epoch 48/50\n",
            "625/625 [==============================] - 5s 8ms/step - loss: 0.0183 - accuracy: 0.9917 - val_loss: 2.5358 - val_accuracy: 0.7798\n",
            "Epoch 49/50\n",
            "625/625 [==============================] - 5s 8ms/step - loss: 0.0182 - accuracy: 0.9920 - val_loss: 2.4682 - val_accuracy: 0.7833\n",
            "Epoch 50/50\n",
            "625/625 [==============================] - 5s 8ms/step - loss: 0.0178 - accuracy: 0.9919 - val_loss: 2.6994 - val_accuracy: 0.7821\n"
          ]
        }
      ]
    },
    {
      "cell_type": "code",
      "metadata": {
        "id": "g9DC6dmLF8DC",
        "outputId": "27477251-c033-4fc3-c7ad-b192bad4161c",
        "colab": {
          "base_uri": "https://localhost:8080/",
          "height": 542
        }
      },
      "source": [
        "import matplotlib.pyplot as plt\n",
        "\n",
        "\n",
        "def plot_graphs(history, string):\n",
        "  plt.plot(history.history[string])\n",
        "  plt.plot(history.history['val_'+string])\n",
        "  plt.xlabel(\"Epochs\")\n",
        "  plt.ylabel(string)\n",
        "  plt.legend([string, 'val_'+string])\n",
        "  plt.show()\n",
        "\n",
        "plot_graphs(history, 'accuracy')\n",
        "plot_graphs(history, 'loss')"
      ],
      "execution_count": 7,
      "outputs": [
        {
          "output_type": "display_data",
          "data": {
            "image/png": "[encoded data removed]",
            "text/plain": [
              "<Figure size 432x288 with 1 Axes>"
            ]
          },
          "metadata": {
            "needs_background": "light"
          }
        },
        {
          "output_type": "display_data",
          "data": {
            "image/png": "[encoded data removed]",
            "text/plain": [
              "<Figure size 432x288 with 1 Axes>"
            ]
          },
          "metadata": {
            "needs_background": "light"
          }
        }
      ]
    },
    {
      "cell_type": "code",
      "metadata": {
        "id": "7ZEZIUppGhdi"
      },
      "source": [
        "model.save(\"test.h5\")"
      ],
      "execution_count": 8,
      "outputs": []
    }
  ]
}