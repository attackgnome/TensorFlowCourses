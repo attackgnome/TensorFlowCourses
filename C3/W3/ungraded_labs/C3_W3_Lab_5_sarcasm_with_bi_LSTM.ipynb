{
  "nbformat": 4,
  "nbformat_minor": 0,
  "metadata": {
    "accelerator": "GPU",
    "colab": {
      "name": "C3_W3_Lab_5_sarcasm_with_bi_LSTM.ipynb",
      "provenance": [],
      "collapsed_sections": [],
      "toc_visible": true,
      "include_colab_link": true
    },
    "kernelspec": {
      "name": "python3",
      "display_name": "Python 3"
    },
    "language_info": {
      "name": "python"
    }
  },
  "cells": [
    {
      "cell_type": "markdown",
      "metadata": {
        "id": "view-in-github",
        "colab_type": "text"
      },
      "source": [
        "<a href=\"https://colab.research.google.com/github/attackgnome/TensorFlowCourses/blob/master/C3/W3/ungraded_labs/C3_W3_Lab_5_sarcasm_with_bi_LSTM.ipynb\" target=\"_parent\"><img src=\"https://colab.research.google.com/assets/colab-badge.svg\" alt=\"Open In Colab\"/></a>"
      ]
    },
    {
      "cell_type": "code",
      "metadata": {
        "id": "zX4Kg8DUTKWO"
      },
      "source": [
        "#@title Licensed under the Apache License, Version 2.0 (the \"License\");\n",
        "# you may not use this file except in compliance with the License.\n",
        "# You may obtain a copy of the License at\n",
        "#\n",
        "# https://www.apache.org/licenses/LICENSE-2.0\n",
        "#\n",
        "# Unless required by applicable law or agreed to in writing, software\n",
        "# distributed under the License is distributed on an \"AS IS\" BASIS,\n",
        "# WITHOUT WARRANTIES OR CONDITIONS OF ANY KIND, either express or implied.\n",
        "# See the License for the specific language governing permissions and\n",
        "# limitations under the License."
      ],
      "execution_count": 1,
      "outputs": []
    },
    {
      "cell_type": "markdown",
      "metadata": {
        "id": "DAAo7FxNJOv8"
      },
      "source": [
        "**IMPORTANT NOTE:** This notebook is designed to run as a Colab. Click the button on top that says, `Open in Colab`, to run this notebook as a Colab. Running the notebook on your local machine might result in some of the code blocks throwing errors."
      ]
    },
    {
      "cell_type": "markdown",
      "metadata": {
        "id": "o2nwqAkdJOv9"
      },
      "source": [
        "**Note:** This notebook can run using TensorFlow 2.5.0"
      ]
    },
    {
      "cell_type": "code",
      "metadata": {
        "id": "krV8SxsqJOv9"
      },
      "source": [
        "#!pip install tensorflow==2.5.0"
      ],
      "execution_count": 2,
      "outputs": []
    },
    {
      "cell_type": "code",
      "metadata": {
        "id": "jGwXGIXvFhXW",
        "outputId": "07533d72-3bb6-40ca-8d66-b3f79b033e5f",
        "colab": {
          "base_uri": "https://localhost:8080/"
        }
      },
      "source": [
        "import numpy as np\n",
        "\n",
        "import json\n",
        "import tensorflow as tf\n",
        "\n",
        "from tensorflow.keras.preprocessing.text import Tokenizer\n",
        "from tensorflow.keras.preprocessing.sequence import pad_sequences\n",
        "\n",
        "# sarcasm.json\n",
        "!gdown --id 1xRU3xY5-tkiPGvlz5xBJ18_pHWSRzI4v\n",
        "\n",
        "vocab_size = 1000\n",
        "embedding_dim = 16\n",
        "max_length = 120\n",
        "trunc_type='post'\n",
        "padding_type='post'\n",
        "oov_tok = \"<OOV>\"\n",
        "training_size = 20000\n",
        "\n",
        "\n",
        "with open(\"./sarcasm.json\", 'r') as f:\n",
        "    datastore = json.load(f)\n",
        "\n",
        "\n",
        "sentences = []\n",
        "labels = []\n",
        "urls = []\n",
        "for item in datastore:\n",
        "    sentences.append(item['headline'])\n",
        "    labels.append(item['is_sarcastic'])\n",
        "\n",
        "training_sentences = sentences[0:training_size]\n",
        "testing_sentences = sentences[training_size:]\n",
        "training_labels = labels[0:training_size]\n",
        "testing_labels = labels[training_size:]\n",
        "\n",
        "tokenizer = Tokenizer(num_words=vocab_size, oov_token=oov_tok)\n",
        "tokenizer.fit_on_texts(training_sentences)\n",
        "\n",
        "word_index = tokenizer.word_index\n",
        "\n",
        "training_sequences = tokenizer.texts_to_sequences(training_sentences)\n",
        "training_padded = pad_sequences(training_sequences, maxlen=max_length, padding=padding_type, truncating=trunc_type)\n",
        "\n",
        "testing_sequences = tokenizer.texts_to_sequences(testing_sentences)\n",
        "testing_padded = pad_sequences(testing_sequences, maxlen=max_length, padding=padding_type, truncating=trunc_type)\n",
        "\n",
        "model = tf.keras.Sequential([\n",
        "    tf.keras.layers.Embedding(vocab_size, embedding_dim, input_length=max_length),\n",
        "    tf.keras.layers.Bidirectional(tf.keras.layers.LSTM(32)),\n",
        "    tf.keras.layers.Dense(24, activation='relu'),\n",
        "    tf.keras.layers.Dense(1, activation='sigmoid')\n",
        "])\n",
        "model.compile(loss='binary_crossentropy',optimizer='adam',metrics=['accuracy'])\n",
        "model.summary()\n",
        "\n",
        "num_epochs = 50\n",
        "training_padded = np.array(training_padded)\n",
        "training_labels = np.array(training_labels)\n",
        "testing_padded = np.array(testing_padded)\n",
        "testing_labels = np.array(testing_labels)\n",
        "history = model.fit(training_padded, training_labels, epochs=num_epochs, validation_data=(testing_padded, testing_labels), verbose=1)\n"
      ],
      "execution_count": 2,
      "outputs": [
        {
          "output_type": "stream",
          "name": "stdout",
          "text": [
            "Downloading...\n",
            "From: https://drive.google.com/uc?id=1xRU3xY5-tkiPGvlz5xBJ18_pHWSRzI4v\n",
            "To: /content/sarcasm.json\n",
            "\r  0% 0.00/5.64M [00:00<?, ?B/s]\r100% 5.64M/5.64M [00:00<00:00, 49.9MB/s]\n",
            "Model: \"sequential\"\n",
            "_________________________________________________________________\n",
            " Layer (type)                Output Shape              Param #   \n",
            "=================================================================\n",
            " embedding (Embedding)       (None, 120, 16)           16000     \n",
            "                                                                 \n",
            " bidirectional (Bidirectiona  (None, 64)               12544     \n",
            " l)                                                              \n",
            "                                                                 \n",
            " dense (Dense)               (None, 24)                1560      \n",
            "                                                                 \n",
            " dense_1 (Dense)             (None, 1)                 25        \n",
            "                                                                 \n",
            "=================================================================\n",
            "Total params: 30,129\n",
            "Trainable params: 30,129\n",
            "Non-trainable params: 0\n",
            "_________________________________________________________________\n",
            "Epoch 1/50\n",
            "625/625 [==============================] - 49s 72ms/step - loss: 0.4557 - accuracy: 0.7651 - val_loss: 0.3820 - val_accuracy: 0.8202\n",
            "Epoch 2/50\n",
            "625/625 [==============================] - 44s 71ms/step - loss: 0.3493 - accuracy: 0.8399 - val_loss: 0.3786 - val_accuracy: 0.8293\n",
            "Epoch 3/50\n",
            "625/625 [==============================] - 44s 70ms/step - loss: 0.3242 - accuracy: 0.8564 - val_loss: 0.3668 - val_accuracy: 0.8338\n",
            "Epoch 4/50\n",
            "625/625 [==============================] - 43s 69ms/step - loss: 0.3065 - accuracy: 0.8643 - val_loss: 0.3705 - val_accuracy: 0.8375\n",
            "Epoch 5/50\n",
            "625/625 [==============================] - 44s 70ms/step - loss: 0.2963 - accuracy: 0.8681 - val_loss: 0.3771 - val_accuracy: 0.8320\n",
            "Epoch 6/50\n",
            "625/625 [==============================] - 44s 71ms/step - loss: 0.2891 - accuracy: 0.8726 - val_loss: 0.3802 - val_accuracy: 0.8320\n",
            "Epoch 7/50\n",
            "625/625 [==============================] - 45s 73ms/step - loss: 0.2791 - accuracy: 0.8771 - val_loss: 0.3903 - val_accuracy: 0.8275\n",
            "Epoch 8/50\n",
            "625/625 [==============================] - 47s 75ms/step - loss: 0.2726 - accuracy: 0.8809 - val_loss: 0.3947 - val_accuracy: 0.8284\n",
            "Epoch 9/50\n",
            "625/625 [==============================] - 47s 75ms/step - loss: 0.2662 - accuracy: 0.8848 - val_loss: 0.3957 - val_accuracy: 0.8313\n",
            "Epoch 10/50\n",
            "625/625 [==============================] - 47s 76ms/step - loss: 0.2576 - accuracy: 0.8882 - val_loss: 0.4026 - val_accuracy: 0.8316\n",
            "Epoch 11/50\n",
            "625/625 [==============================] - 46s 73ms/step - loss: 0.2512 - accuracy: 0.8903 - val_loss: 0.4174 - val_accuracy: 0.8259\n",
            "Epoch 12/50\n",
            "625/625 [==============================] - 46s 73ms/step - loss: 0.2442 - accuracy: 0.8950 - val_loss: 0.4186 - val_accuracy: 0.8246\n",
            "Epoch 13/50\n",
            "625/625 [==============================] - 45s 72ms/step - loss: 0.2333 - accuracy: 0.8985 - val_loss: 0.4339 - val_accuracy: 0.8232\n",
            "Epoch 14/50\n",
            "625/625 [==============================] - 44s 71ms/step - loss: 0.2277 - accuracy: 0.9010 - val_loss: 0.4341 - val_accuracy: 0.8229\n",
            "Epoch 15/50\n",
            "625/625 [==============================] - 44s 71ms/step - loss: 0.2185 - accuracy: 0.9059 - val_loss: 0.4497 - val_accuracy: 0.8240\n",
            "Epoch 16/50\n",
            "625/625 [==============================] - 48s 76ms/step - loss: 0.2102 - accuracy: 0.9097 - val_loss: 0.5054 - val_accuracy: 0.8188\n",
            "Epoch 17/50\n",
            "625/625 [==============================] - 45s 73ms/step - loss: 0.2024 - accuracy: 0.9129 - val_loss: 0.5128 - val_accuracy: 0.8152\n",
            "Epoch 18/50\n",
            "625/625 [==============================] - 45s 72ms/step - loss: 0.1936 - accuracy: 0.9162 - val_loss: 0.5049 - val_accuracy: 0.8152\n",
            "Epoch 19/50\n",
            "625/625 [==============================] - 45s 72ms/step - loss: 0.1835 - accuracy: 0.9222 - val_loss: 0.5500 - val_accuracy: 0.8158\n",
            "Epoch 20/50\n",
            "625/625 [==============================] - 45s 71ms/step - loss: 0.1770 - accuracy: 0.9269 - val_loss: 0.5956 - val_accuracy: 0.8106\n",
            "Epoch 21/50\n",
            "625/625 [==============================] - 45s 73ms/step - loss: 0.1668 - accuracy: 0.9309 - val_loss: 0.6627 - val_accuracy: 0.8162\n",
            "Epoch 22/50\n",
            "625/625 [==============================] - 46s 73ms/step - loss: 0.1617 - accuracy: 0.9322 - val_loss: 0.6513 - val_accuracy: 0.8143\n",
            "Epoch 23/50\n",
            "625/625 [==============================] - 45s 73ms/step - loss: 0.1508 - accuracy: 0.9373 - val_loss: 0.6769 - val_accuracy: 0.8122\n",
            "Epoch 24/50\n",
            "625/625 [==============================] - 45s 73ms/step - loss: 0.1448 - accuracy: 0.9402 - val_loss: 0.6963 - val_accuracy: 0.8076\n",
            "Epoch 25/50\n",
            "625/625 [==============================] - 45s 72ms/step - loss: 0.1356 - accuracy: 0.9451 - val_loss: 0.7674 - val_accuracy: 0.8034\n",
            "Epoch 26/50\n",
            "625/625 [==============================] - 45s 73ms/step - loss: 0.1313 - accuracy: 0.9467 - val_loss: 0.8056 - val_accuracy: 0.8095\n",
            "Epoch 27/50\n",
            "625/625 [==============================] - 45s 72ms/step - loss: 0.1267 - accuracy: 0.9495 - val_loss: 0.7737 - val_accuracy: 0.8059\n",
            "Epoch 28/50\n",
            "625/625 [==============================] - 45s 73ms/step - loss: 0.1133 - accuracy: 0.9543 - val_loss: 0.8427 - val_accuracy: 0.8056\n",
            "Epoch 29/50\n",
            "625/625 [==============================] - 46s 74ms/step - loss: 0.1116 - accuracy: 0.9554 - val_loss: 0.8523 - val_accuracy: 0.8016\n",
            "Epoch 30/50\n",
            "625/625 [==============================] - 44s 71ms/step - loss: 0.1045 - accuracy: 0.9590 - val_loss: 0.8870 - val_accuracy: 0.8037\n",
            "Epoch 31/50\n",
            "625/625 [==============================] - 44s 70ms/step - loss: 0.1036 - accuracy: 0.9599 - val_loss: 0.8802 - val_accuracy: 0.8007\n",
            "Epoch 32/50\n",
            "625/625 [==============================] - 46s 73ms/step - loss: 0.0985 - accuracy: 0.9614 - val_loss: 0.9281 - val_accuracy: 0.8024\n",
            "Epoch 33/50\n",
            "625/625 [==============================] - 44s 70ms/step - loss: 0.0891 - accuracy: 0.9647 - val_loss: 1.0287 - val_accuracy: 0.7959\n",
            "Epoch 34/50\n",
            "625/625 [==============================] - 44s 71ms/step - loss: 0.0856 - accuracy: 0.9670 - val_loss: 1.0434 - val_accuracy: 0.7970\n",
            "Epoch 35/50\n",
            "625/625 [==============================] - 43s 69ms/step - loss: 0.0822 - accuracy: 0.9689 - val_loss: 1.0445 - val_accuracy: 0.7959\n",
            "Epoch 36/50\n",
            "625/625 [==============================] - 43s 69ms/step - loss: 0.0786 - accuracy: 0.9704 - val_loss: 1.1609 - val_accuracy: 0.8030\n",
            "Epoch 37/50\n",
            "625/625 [==============================] - 43s 69ms/step - loss: 0.0783 - accuracy: 0.9703 - val_loss: 1.1120 - val_accuracy: 0.7968\n",
            "Epoch 38/50\n",
            "625/625 [==============================] - 43s 69ms/step - loss: 0.0749 - accuracy: 0.9712 - val_loss: 1.1168 - val_accuracy: 0.7936\n",
            "Epoch 39/50\n",
            "625/625 [==============================] - 43s 69ms/step - loss: 0.0659 - accuracy: 0.9750 - val_loss: 1.2035 - val_accuracy: 0.7979\n",
            "Epoch 40/50\n",
            "625/625 [==============================] - 44s 70ms/step - loss: 0.0687 - accuracy: 0.9738 - val_loss: 1.2274 - val_accuracy: 0.7943\n",
            "Epoch 41/50\n",
            "625/625 [==============================] - 43s 69ms/step - loss: 0.0669 - accuracy: 0.9746 - val_loss: 1.2436 - val_accuracy: 0.7994\n",
            "Epoch 42/50\n",
            "625/625 [==============================] - 43s 69ms/step - loss: 0.0624 - accuracy: 0.9768 - val_loss: 1.2420 - val_accuracy: 0.7995\n",
            "Epoch 43/50\n",
            "625/625 [==============================] - 43s 69ms/step - loss: 0.0612 - accuracy: 0.9770 - val_loss: 1.2523 - val_accuracy: 0.7976\n",
            "Epoch 44/50\n",
            "625/625 [==============================] - 43s 69ms/step - loss: 0.0597 - accuracy: 0.9775 - val_loss: 1.2140 - val_accuracy: 0.7919\n",
            "Epoch 45/50\n",
            "625/625 [==============================] - 44s 70ms/step - loss: 0.0612 - accuracy: 0.9761 - val_loss: 1.2910 - val_accuracy: 0.7928\n",
            "Epoch 46/50\n",
            "625/625 [==============================] - 43s 69ms/step - loss: 0.0552 - accuracy: 0.9791 - val_loss: 1.3421 - val_accuracy: 0.7976\n",
            "Epoch 47/50\n",
            "625/625 [==============================] - 43s 69ms/step - loss: 0.0525 - accuracy: 0.9797 - val_loss: 1.4162 - val_accuracy: 0.7955\n",
            "Epoch 48/50\n",
            "625/625 [==============================] - 44s 70ms/step - loss: 0.0495 - accuracy: 0.9812 - val_loss: 1.3905 - val_accuracy: 0.7904\n",
            "Epoch 49/50\n",
            "625/625 [==============================] - 43s 69ms/step - loss: 0.0513 - accuracy: 0.9808 - val_loss: 1.3767 - val_accuracy: 0.7988\n",
            "Epoch 50/50\n",
            "625/625 [==============================] - 43s 69ms/step - loss: 0.0505 - accuracy: 0.9811 - val_loss: 1.3722 - val_accuracy: 0.7974\n"
          ]
        }
      ]
    },
    {
      "cell_type": "code",
      "metadata": {
        "id": "g9DC6dmLF8DC",
        "outputId": "41bdec8b-da92-4cd2-86d9-da69497110ec",
        "colab": {
          "base_uri": "https://localhost:8080/",
          "height": 541
        }
      },
      "source": [
        "import matplotlib.pyplot as plt\n",
        "\n",
        "\n",
        "def plot_graphs(history, string):\n",
        "  plt.plot(history.history[string])\n",
        "  plt.plot(history.history['val_'+string])\n",
        "  plt.xlabel(\"Epochs\")\n",
        "  plt.ylabel(string)\n",
        "  plt.legend([string, 'val_'+string])\n",
        "  plt.show()\n",
        "\n",
        "plot_graphs(history, 'accuracy')\n",
        "plot_graphs(history, 'loss')"
      ],
      "execution_count": 3,
      "outputs": [
        {
          "output_type": "display_data",
          "data": {
            "image/png": "[encoded data removed]",
            "text/plain": [
              "<Figure size 432x288 with 1 Axes>"
            ]
          },
          "metadata": {
            "needs_background": "light"
          }
        },
        {
          "output_type": "display_data",
          "data": {
            "image/png": "[encoded data removed]",
            "text/plain": [
              "<Figure size 432x288 with 1 Axes>"
            ]
          },
          "metadata": {
            "needs_background": "light"
          }
        }
      ]
    },
    {
      "cell_type": "code",
      "metadata": {
        "id": "7ZEZIUppGhdi"
      },
      "source": [
        "model.save(\"test.h5\")"
      ],
      "execution_count": 4,
      "outputs": []
    }
  ]
}