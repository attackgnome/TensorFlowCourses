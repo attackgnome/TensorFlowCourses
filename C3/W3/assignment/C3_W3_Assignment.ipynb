{
  "nbformat": 4,
  "nbformat_minor": 0,
  "metadata": {
    "accelerator": "GPU",
    "colab": {
      "name": "C3_W3_Assignment.ipynb",
      "provenance": [],
      "toc_visible": true,
      "include_colab_link": true
    },
    "kernelspec": {
      "display_name": "Python 3",
      "language": "python",
      "name": "python3"
    },
    "language_info": {
      "codemirror_mode": {
        "name": "ipython",
        "version": 3
      },
      "file_extension": ".py",
      "mimetype": "text/x-python",
      "name": "python",
      "nbconvert_exporter": "python",
      "pygments_lexer": "ipython3",
      "version": "3.8.5"
    }
  },
  "cells": [
    {
      "cell_type": "markdown",
      "metadata": {
        "id": "view-in-github",
        "colab_type": "text"
      },
      "source": [
        "<a href=\"https://colab.research.google.com/github/attackgnome/TensorFlowCourses/blob/master/C3/W3/assignment/C3_W3_Assignment.ipynb\" target=\"_parent\"><img src=\"https://colab.research.google.com/assets/colab-badge.svg\" alt=\"Open In Colab\"/></a>"
      ]
    },
    {
      "cell_type": "code",
      "metadata": {
        "id": "zX4Kg8DUTKWO"
      },
      "source": [
        "#@title Licensed under the Apache License, Version 2.0 (the \"License\");\n",
        "# you may not use this file except in compliance with the License.\n",
        "# You may obtain a copy of the License at\n",
        "#\n",
        "# https://www.apache.org/licenses/LICENSE-2.0\n",
        "#\n",
        "# Unless required by applicable law or agreed to in writing, software\n",
        "# distributed under the License is distributed on an \"AS IS\" BASIS,\n",
        "# WITHOUT WARRANTIES OR CONDITIONS OF ANY KIND, either express or implied.\n",
        "# See the License for the specific language governing permissions and\n",
        "# limitations under the License."
      ],
      "execution_count": 1,
      "outputs": []
    },
    {
      "cell_type": "markdown",
      "metadata": {
        "id": "gnU1TV9kV5f9"
      },
      "source": [
        "**Note:** This notebook can run using TensorFlow 2.5.0"
      ]
    },
    {
      "cell_type": "code",
      "metadata": {
        "id": "qTZDRvo5V5f9"
      },
      "source": [
        "#!pip install tensorflow==2.5.0"
      ],
      "execution_count": 2,
      "outputs": []
    },
    {
      "cell_type": "code",
      "metadata": {
        "id": "hmA6EzkQJ5jt"
      },
      "source": [
        "import json\n",
        "import tensorflow as tf\n",
        "import csv\n",
        "import random\n",
        "import numpy as np\n",
        "\n",
        "from tensorflow.keras.preprocessing.text import Tokenizer\n",
        "from tensorflow.keras.preprocessing.sequence import pad_sequences\n",
        "from tensorflow.keras.utils import to_categorical\n",
        "from tensorflow.keras import regularizers\n",
        "\n",
        "\n",
        "embedding_dim = 100\n",
        "max_length = 16\n",
        "trunc_type='post'\n",
        "padding_type='post'\n",
        "oov_tok = \"<OOV>\"\n",
        "training_size= 160000 #Your dataset size here. Experiment using smaller values (i.e. 16000), but don't forget to train on at least 160000 to see the best effects\n",
        "test_portion=.1\n",
        "\n",
        "corpus = []\n"
      ],
      "execution_count": 3,
      "outputs": []
    },
    {
      "cell_type": "code",
      "metadata": {
        "id": "bM0l_dORKqE0",
        "outputId": "797268c2-9be5-469a-eef2-b832100aac0e",
        "colab": {
          "base_uri": "https://localhost:8080/"
        }
      },
      "source": [
        "# Note that I cleaned the Stanford dataset to remove LATIN1 encoding to make it easier for Python CSV reader\n",
        "# You can do that yourself with:\n",
        "# iconv -f LATIN1 -t UTF8 training.1600000.processed.noemoticon.csv -o training_cleaned.csv\n",
        "\n",
        "# training_cleaned.csv\n",
        "!gdown --id 1wd8KaeCSHxt-nEpMeuHFSNWrDp8joUXJ\n",
        "\n",
        "num_sentences = 0\n",
        "\n",
        "with open(\"./training_cleaned.csv\") as csvfile:\n",
        "    reader = csv.reader(csvfile, delimiter=',')\n",
        "    for row in reader:\n",
        "        list_item=[]\n",
        "        \n",
        "        ### START CODE HERE\n",
        "        list_item.append(row[5])\n",
        "        label=row[0]\n",
        "        if label=='0':\n",
        "            list_item.append(0)\n",
        "        else:\n",
        "            list_item.append(1)\n",
        "        ### END CODE HERE\n",
        "        \n",
        "        num_sentences = num_sentences + 1\n",
        "        corpus.append(list_item)\n"
      ],
      "execution_count": 4,
      "outputs": [
        {
          "output_type": "stream",
          "name": "stdout",
          "text": [
            "Downloading...\n",
            "From: https://drive.google.com/uc?id=1wd8KaeCSHxt-nEpMeuHFSNWrDp8joUXJ\n",
            "To: /content/training_cleaned.csv\n",
            "100% 239M/239M [00:01<00:00, 213MB/s]\n"
          ]
        }
      ]
    },
    {
      "cell_type": "code",
      "metadata": {
        "id": "3kxblBUjEUX-",
        "outputId": "5329c994-cad6-4bea-f582-e46653f8ba7d",
        "colab": {
          "base_uri": "https://localhost:8080/"
        }
      },
      "source": [
        "print(num_sentences)\n",
        "print(len(corpus))\n",
        "print(corpus[1])\n",
        "\n",
        "# Expected Output:\n",
        "# 1600000\n",
        "# 1600000\n",
        "# [\"is upset that he can't update his Facebook by texting it... and might cry as a result  School today also. Blah!\", 0]"
      ],
      "execution_count": 5,
      "outputs": [
        {
          "output_type": "stream",
          "name": "stdout",
          "text": [
            "1600000\n",
            "1600000\n",
            "[\"is upset that he can't update his Facebook by texting it... and might cry as a result  School today also. Blah!\", 0]\n"
          ]
        }
      ]
    },
    {
      "cell_type": "code",
      "metadata": {
        "id": "ohOGz24lsNAD"
      },
      "source": [
        "sentences=[]\n",
        "labels=[]\n",
        "random.shuffle(corpus)\n",
        "for x in range(training_size):\n",
        "    sentences.append(corpus[x][0])\n",
        "    labels.append(corpus[x][1])\n",
        "\n",
        "\n",
        "tokenizer = Tokenizer()\n",
        "tokenizer.fit_on_texts(sentences)\n",
        "\n",
        "word_index = tokenizer.word_index\n",
        "vocab_size=len(word_index)\n",
        "\n",
        "sequences = tokenizer.texts_to_sequences(sentences)\n",
        "padded = pad_sequences(sequences, maxlen=max_length, padding=padding_type, truncating=trunc_type)\n",
        "\n",
        "split = int(test_portion * training_size)\n",
        "\n",
        "test_sequences = np.array(padded[0:split])\n",
        "training_sequences = np.array(padded[split:training_size])\n",
        "test_labels = np.array(labels[0:split])\n",
        "training_labels = np.array(labels[split:training_size])"
      ],
      "execution_count": 11,
      "outputs": []
    },
    {
      "cell_type": "code",
      "metadata": {
        "id": "gIrtRem1En3N",
        "outputId": "ef8f055a-41b5-44e2-a0c8-95688011eb5a",
        "colab": {
          "base_uri": "https://localhost:8080/"
        }
      },
      "source": [
        "print(vocab_size)\n",
        "print(word_index['i'])\n",
        "# Expected Output\n",
        "# 138856\n",
        "# 1"
      ],
      "execution_count": 12,
      "outputs": [
        {
          "output_type": "stream",
          "name": "stdout",
          "text": [
            "138840\n",
            "1\n"
          ]
        }
      ]
    },
    {
      "cell_type": "code",
      "metadata": {
        "id": "C1zdgJkusRh0",
        "outputId": "bd0dabf6-a628-489f-e707-0ff8ca4e12aa",
        "colab": {
          "base_uri": "https://localhost:8080/"
        }
      },
      "source": [
        "# Note this is the 100 dimension version of GloVe from Stanford\n",
        "\n",
        "# glove.6B.100d.txt\n",
        "!gdown --id 1W5vZy2etitAblLdFn8_DxnsQKzfFJ98g\n",
        "\n",
        "embeddings_index = {};\n",
        "with open('./glove.6B.100d.txt') as f:\n",
        "    for line in f:\n",
        "        values = line.split();\n",
        "        word = values[0];\n",
        "        coefs = np.asarray(values[1:], dtype='float32');\n",
        "        embeddings_index[word] = coefs;\n",
        "\n",
        "embeddings_matrix = np.zeros((vocab_size+1, embedding_dim));\n",
        "for word, i in word_index.items():\n",
        "    embedding_vector = embeddings_index.get(word);\n",
        "    if embedding_vector is not None:\n",
        "        embeddings_matrix[i] = embedding_vector;"
      ],
      "execution_count": 13,
      "outputs": [
        {
          "output_type": "stream",
          "name": "stdout",
          "text": [
            "Downloading...\n",
            "From: https://drive.google.com/uc?id=1W5vZy2etitAblLdFn8_DxnsQKzfFJ98g\n",
            "To: /content/glove.6B.100d.txt\n",
            "100% 347M/347M [00:01<00:00, 228MB/s]\n"
          ]
        }
      ]
    },
    {
      "cell_type": "code",
      "metadata": {
        "id": "71NLk_lpFLNt",
        "outputId": "a9f96a0a-3507-4e9a-b56c-cb45777b53eb",
        "colab": {
          "base_uri": "https://localhost:8080/"
        }
      },
      "source": [
        "print(len(embeddings_matrix))\n",
        "# Expected Output\n",
        "# 138857"
      ],
      "execution_count": 14,
      "outputs": [
        {
          "output_type": "stream",
          "name": "stdout",
          "text": [
            "138841\n"
          ]
        }
      ]
    },
    {
      "cell_type": "code",
      "metadata": {
        "id": "iKKvbuEBOGFz",
        "outputId": "7be683a2-9171-47ae-f1f1-fe0430d63187",
        "colab": {
          "base_uri": "https://localhost:8080/"
        }
      },
      "source": [
        "model = tf.keras.Sequential([\n",
        "    tf.keras.layers.Embedding(vocab_size+1, embedding_dim, input_length=max_length, weights=[embeddings_matrix], trainable=False),\n",
        "    tf.keras.layers.Dropout(0.2),\n",
        "    tf.keras.layers.Conv1D(64, 5, activation='relu'),\n",
        "    tf.keras.layers.MaxPooling1D(pool_size=4),\n",
        "    tf.keras.layers.LSTM(64),\n",
        "    tf.keras.layers.Dense(1, activation='sigmoid')\n",
        "    # YOUR CODE HERE - experiment with combining different types, such as convolutions and LSTMs\n",
        "])\n",
        "model.compile(loss='binary_crossentropy',optimizer='adam',metrics=['accuracy'])\n",
        "model.summary()\n",
        "\n",
        "num_epochs = 50\n",
        "history = model.fit(training_sequences, training_labels, epochs=num_epochs, validation_data=(test_sequences, test_labels), verbose=2)\n",
        "\n",
        "print(\"Training Complete\")\n"
      ],
      "execution_count": 15,
      "outputs": [
        {
          "output_type": "stream",
          "name": "stdout",
          "text": [
            "Model: \"sequential_1\"\n",
            "_________________________________________________________________\n",
            " Layer (type)                Output Shape              Param #   \n",
            "=================================================================\n",
            " embedding_1 (Embedding)     (None, 16, 100)           13884100  \n",
            "                                                                 \n",
            " dropout_1 (Dropout)         (None, 16, 100)           0         \n",
            "                                                                 \n",
            " conv1d_1 (Conv1D)           (None, 12, 64)            32064     \n",
            "                                                                 \n",
            " max_pooling1d_1 (MaxPooling  (None, 3, 64)            0         \n",
            " 1D)                                                             \n",
            "                                                                 \n",
            " lstm_1 (LSTM)               (None, 64)                33024     \n",
            "                                                                 \n",
            " dense_1 (Dense)             (None, 1)                 65        \n",
            "                                                                 \n",
            "=================================================================\n",
            "Total params: 13,949,253\n",
            "Trainable params: 65,153\n",
            "Non-trainable params: 13,884,100\n",
            "_________________________________________________________________\n",
            "Epoch 1/50\n",
            "4500/4500 - 34s - loss: 0.5671 - accuracy: 0.6985 - val_loss: 0.5378 - val_accuracy: 0.7299 - 34s/epoch - 7ms/step\n",
            "Epoch 2/50\n",
            "4500/4500 - 30s - loss: 0.5276 - accuracy: 0.7321 - val_loss: 0.5197 - val_accuracy: 0.7371 - 30s/epoch - 7ms/step\n",
            "Epoch 3/50\n",
            "4500/4500 - 30s - loss: 0.5115 - accuracy: 0.7425 - val_loss: 0.5092 - val_accuracy: 0.7437 - 30s/epoch - 7ms/step\n",
            "Epoch 4/50\n",
            "4500/4500 - 30s - loss: 0.4998 - accuracy: 0.7509 - val_loss: 0.5073 - val_accuracy: 0.7457 - 30s/epoch - 7ms/step\n",
            "Epoch 5/50\n",
            "4500/4500 - 34s - loss: 0.4917 - accuracy: 0.7573 - val_loss: 0.5074 - val_accuracy: 0.7461 - 34s/epoch - 7ms/step\n",
            "Epoch 6/50\n",
            "4500/4500 - 32s - loss: 0.4845 - accuracy: 0.7610 - val_loss: 0.5052 - val_accuracy: 0.7484 - 32s/epoch - 7ms/step\n",
            "Epoch 7/50\n",
            "4500/4500 - 32s - loss: 0.4777 - accuracy: 0.7656 - val_loss: 0.5063 - val_accuracy: 0.7488 - 32s/epoch - 7ms/step\n",
            "Epoch 8/50\n",
            "4500/4500 - 32s - loss: 0.4727 - accuracy: 0.7691 - val_loss: 0.5045 - val_accuracy: 0.7506 - 32s/epoch - 7ms/step\n",
            "Epoch 9/50\n",
            "4500/4500 - 30s - loss: 0.4694 - accuracy: 0.7708 - val_loss: 0.5074 - val_accuracy: 0.7497 - 30s/epoch - 7ms/step\n",
            "Epoch 10/50\n",
            "4500/4500 - 31s - loss: 0.4656 - accuracy: 0.7755 - val_loss: 0.5103 - val_accuracy: 0.7483 - 31s/epoch - 7ms/step\n",
            "Epoch 11/50\n",
            "4500/4500 - 30s - loss: 0.4603 - accuracy: 0.7771 - val_loss: 0.5055 - val_accuracy: 0.7483 - 30s/epoch - 7ms/step\n",
            "Epoch 12/50\n",
            "4500/4500 - 32s - loss: 0.4592 - accuracy: 0.7783 - val_loss: 0.5107 - val_accuracy: 0.7464 - 32s/epoch - 7ms/step\n",
            "Epoch 13/50\n",
            "4500/4500 - 30s - loss: 0.4562 - accuracy: 0.7792 - val_loss: 0.5156 - val_accuracy: 0.7433 - 30s/epoch - 7ms/step\n",
            "Epoch 14/50\n",
            "4500/4500 - 33s - loss: 0.4529 - accuracy: 0.7808 - val_loss: 0.5065 - val_accuracy: 0.7498 - 33s/epoch - 7ms/step\n",
            "Epoch 15/50\n",
            "4500/4500 - 31s - loss: 0.4522 - accuracy: 0.7825 - val_loss: 0.5057 - val_accuracy: 0.7516 - 31s/epoch - 7ms/step\n",
            "Epoch 16/50\n",
            "4500/4500 - 30s - loss: 0.4502 - accuracy: 0.7844 - val_loss: 0.5043 - val_accuracy: 0.7491 - 30s/epoch - 7ms/step\n",
            "Epoch 17/50\n",
            "4500/4500 - 31s - loss: 0.4474 - accuracy: 0.7853 - val_loss: 0.5100 - val_accuracy: 0.7478 - 31s/epoch - 7ms/step\n",
            "Epoch 18/50\n",
            "4500/4500 - 31s - loss: 0.4461 - accuracy: 0.7856 - val_loss: 0.5180 - val_accuracy: 0.7467 - 31s/epoch - 7ms/step\n",
            "Epoch 19/50\n",
            "4500/4500 - 31s - loss: 0.4459 - accuracy: 0.7852 - val_loss: 0.5128 - val_accuracy: 0.7480 - 31s/epoch - 7ms/step\n",
            "Epoch 20/50\n",
            "4500/4500 - 31s - loss: 0.4425 - accuracy: 0.7873 - val_loss: 0.5112 - val_accuracy: 0.7500 - 31s/epoch - 7ms/step\n",
            "Epoch 21/50\n",
            "4500/4500 - 31s - loss: 0.4422 - accuracy: 0.7870 - val_loss: 0.5109 - val_accuracy: 0.7487 - 31s/epoch - 7ms/step\n",
            "Epoch 22/50\n",
            "4500/4500 - 31s - loss: 0.4402 - accuracy: 0.7902 - val_loss: 0.5143 - val_accuracy: 0.7473 - 31s/epoch - 7ms/step\n",
            "Epoch 23/50\n",
            "4500/4500 - 30s - loss: 0.4413 - accuracy: 0.7885 - val_loss: 0.5097 - val_accuracy: 0.7491 - 30s/epoch - 7ms/step\n",
            "Epoch 24/50\n",
            "4500/4500 - 31s - loss: 0.4394 - accuracy: 0.7896 - val_loss: 0.5154 - val_accuracy: 0.7475 - 31s/epoch - 7ms/step\n",
            "Epoch 25/50\n",
            "4500/4500 - 30s - loss: 0.4377 - accuracy: 0.7908 - val_loss: 0.5151 - val_accuracy: 0.7461 - 30s/epoch - 7ms/step\n",
            "Epoch 26/50\n",
            "4500/4500 - 30s - loss: 0.4373 - accuracy: 0.7914 - val_loss: 0.5168 - val_accuracy: 0.7459 - 30s/epoch - 7ms/step\n",
            "Epoch 27/50\n",
            "4500/4500 - 30s - loss: 0.4359 - accuracy: 0.7926 - val_loss: 0.5149 - val_accuracy: 0.7477 - 30s/epoch - 7ms/step\n",
            "Epoch 28/50\n",
            "4500/4500 - 28s - loss: 0.4352 - accuracy: 0.7928 - val_loss: 0.5170 - val_accuracy: 0.7469 - 28s/epoch - 6ms/step\n",
            "Epoch 29/50\n",
            "4500/4500 - 28s - loss: 0.4363 - accuracy: 0.7916 - val_loss: 0.5174 - val_accuracy: 0.7464 - 28s/epoch - 6ms/step\n",
            "Epoch 30/50\n",
            "4500/4500 - 30s - loss: 0.4341 - accuracy: 0.7937 - val_loss: 0.5182 - val_accuracy: 0.7441 - 30s/epoch - 7ms/step\n",
            "Epoch 31/50\n",
            "4500/4500 - 27s - loss: 0.4329 - accuracy: 0.7941 - val_loss: 0.5200 - val_accuracy: 0.7457 - 27s/epoch - 6ms/step\n",
            "Epoch 32/50\n",
            "4500/4500 - 29s - loss: 0.4330 - accuracy: 0.7941 - val_loss: 0.5191 - val_accuracy: 0.7461 - 29s/epoch - 7ms/step\n",
            "Epoch 33/50\n",
            "4500/4500 - 30s - loss: 0.4331 - accuracy: 0.7943 - val_loss: 0.5217 - val_accuracy: 0.7411 - 30s/epoch - 7ms/step\n",
            "Epoch 34/50\n",
            "4500/4500 - 30s - loss: 0.4319 - accuracy: 0.7947 - val_loss: 0.5219 - val_accuracy: 0.7448 - 30s/epoch - 7ms/step\n",
            "Epoch 35/50\n",
            "4500/4500 - 29s - loss: 0.4323 - accuracy: 0.7946 - val_loss: 0.5194 - val_accuracy: 0.7469 - 29s/epoch - 6ms/step\n",
            "Epoch 36/50\n",
            "4500/4500 - 30s - loss: 0.4313 - accuracy: 0.7959 - val_loss: 0.5251 - val_accuracy: 0.7435 - 30s/epoch - 7ms/step\n",
            "Epoch 37/50\n",
            "4500/4500 - 30s - loss: 0.4318 - accuracy: 0.7948 - val_loss: 0.5223 - val_accuracy: 0.7423 - 30s/epoch - 7ms/step\n",
            "Epoch 38/50\n",
            "4500/4500 - 30s - loss: 0.4308 - accuracy: 0.7958 - val_loss: 0.5304 - val_accuracy: 0.7417 - 30s/epoch - 7ms/step\n",
            "Epoch 39/50\n",
            "4500/4500 - 30s - loss: 0.4302 - accuracy: 0.7954 - val_loss: 0.5195 - val_accuracy: 0.7471 - 30s/epoch - 7ms/step\n",
            "Epoch 40/50\n",
            "4500/4500 - 30s - loss: 0.4293 - accuracy: 0.7970 - val_loss: 0.5225 - val_accuracy: 0.7441 - 30s/epoch - 7ms/step\n",
            "Epoch 41/50\n",
            "4500/4500 - 29s - loss: 0.4286 - accuracy: 0.7953 - val_loss: 0.5210 - val_accuracy: 0.7466 - 29s/epoch - 7ms/step\n",
            "Epoch 42/50\n",
            "4500/4500 - 30s - loss: 0.4290 - accuracy: 0.7965 - val_loss: 0.5243 - val_accuracy: 0.7422 - 30s/epoch - 7ms/step\n",
            "Epoch 43/50\n",
            "4500/4500 - 29s - loss: 0.4295 - accuracy: 0.7955 - val_loss: 0.5246 - val_accuracy: 0.7423 - 29s/epoch - 7ms/step\n",
            "Epoch 44/50\n",
            "4500/4500 - 29s - loss: 0.4281 - accuracy: 0.7967 - val_loss: 0.5313 - val_accuracy: 0.7433 - 29s/epoch - 6ms/step\n",
            "Epoch 45/50\n",
            "4500/4500 - 27s - loss: 0.4285 - accuracy: 0.7968 - val_loss: 0.5261 - val_accuracy: 0.7442 - 27s/epoch - 6ms/step\n",
            "Epoch 46/50\n",
            "4500/4500 - 27s - loss: 0.4272 - accuracy: 0.7970 - val_loss: 0.5282 - val_accuracy: 0.7414 - 27s/epoch - 6ms/step\n",
            "Epoch 47/50\n",
            "4500/4500 - 27s - loss: 0.4276 - accuracy: 0.7976 - val_loss: 0.5265 - val_accuracy: 0.7409 - 27s/epoch - 6ms/step\n",
            "Epoch 48/50\n",
            "4500/4500 - 31s - loss: 0.4274 - accuracy: 0.7967 - val_loss: 0.5305 - val_accuracy: 0.7411 - 31s/epoch - 7ms/step\n",
            "Epoch 49/50\n",
            "4500/4500 - 30s - loss: 0.4266 - accuracy: 0.7978 - val_loss: 0.5297 - val_accuracy: 0.7404 - 30s/epoch - 7ms/step\n",
            "Epoch 50/50\n",
            "4500/4500 - 30s - loss: 0.4266 - accuracy: 0.7972 - val_loss: 0.5305 - val_accuracy: 0.7396 - 30s/epoch - 7ms/step\n",
            "Training Complete\n"
          ]
        }
      ]
    },
    {
      "cell_type": "code",
      "metadata": {
        "id": "qxju4ItJKO8F",
        "outputId": "a9724aef-190a-48f0-afff-b0b9d81d6aae",
        "colab": {
          "base_uri": "https://localhost:8080/",
          "height": 608
        }
      },
      "source": [
        "import matplotlib.image  as mpimg\n",
        "import matplotlib.pyplot as plt\n",
        "\n",
        "#-----------------------------------------------------------\n",
        "# Retrieve a list of list results on training and test data\n",
        "# sets for each training epoch\n",
        "#-----------------------------------------------------------\n",
        "acc=history.history['accuracy']\n",
        "val_acc=history.history['val_accuracy']\n",
        "loss=history.history['loss']\n",
        "val_loss=history.history['val_loss']\n",
        "\n",
        "epochs=range(len(acc)) # Get number of epochs\n",
        "\n",
        "#------------------------------------------------\n",
        "# Plot training and validation accuracy per epoch\n",
        "#------------------------------------------------\n",
        "plt.plot(epochs, acc, 'r')\n",
        "plt.plot(epochs, val_acc, 'b')\n",
        "plt.title('Training and validation accuracy')\n",
        "plt.xlabel(\"Epochs\")\n",
        "plt.ylabel(\"Accuracy\")\n",
        "plt.legend([\"Accuracy\", \"Validation Accuracy\"])\n",
        "\n",
        "plt.figure()\n",
        "\n",
        "#------------------------------------------------\n",
        "# Plot training and validation loss per epoch\n",
        "#------------------------------------------------\n",
        "plt.plot(epochs, loss, 'r')\n",
        "plt.plot(epochs, val_loss, 'b')\n",
        "plt.title('Training and validation loss')\n",
        "plt.xlabel(\"Epochs\")\n",
        "plt.ylabel(\"Loss\")\n",
        "plt.legend([\"Loss\", \"Validation Loss\"])\n",
        "\n",
        "plt.figure()\n",
        "\n",
        "\n",
        "# Expected Output\n",
        "# A chart where the validation loss does not increase sharply!"
      ],
      "execution_count": 16,
      "outputs": [
        {
          "output_type": "execute_result",
          "data": {
            "text/plain": [
              "<Figure size 432x288 with 0 Axes>"
            ]
          },
          "metadata": {},
          "execution_count": 16
        },
        {
          "output_type": "display_data",
          "data": {
            "image/png": "[encoded data removed]",
            "text/plain": [
              "<Figure size 432x288 with 1 Axes>"
            ]
          },
          "metadata": {
            "needs_background": "light"
          }
        },
        {
          "output_type": "display_data",
          "data": {
            "image/png": "[encoded data removed]",
            "text/plain": [
              "<Figure size 432x288 with 1 Axes>"
            ]
          },
          "metadata": {
            "needs_background": "light"
          }
        },
        {
          "output_type": "display_data",
          "data": {
            "text/plain": [
              "<Figure size 432x288 with 0 Axes>"
            ]
          },
          "metadata": {}
        }
      ]
    }
  ]
}