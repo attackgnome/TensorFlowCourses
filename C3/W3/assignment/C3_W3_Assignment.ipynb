{
  "nbformat": 4,
  "nbformat_minor": 0,
  "metadata": {
    "accelerator": "GPU",
    "colab": {
      "name": "C3_W3_Assignment.ipynb",
      "provenance": [],
      "toc_visible": true,
      "include_colab_link": true
    },
    "kernelspec": {
      "display_name": "Python 3",
      "language": "python",
      "name": "python3"
    },
    "language_info": {
      "codemirror_mode": {
        "name": "ipython",
        "version": 3
      },
      "file_extension": ".py",
      "mimetype": "text/x-python",
      "name": "python",
      "nbconvert_exporter": "python",
      "pygments_lexer": "ipython3",
      "version": "3.8.5"
    }
  },
  "cells": [
    {
      "cell_type": "markdown",
      "metadata": {
        "id": "view-in-github",
        "colab_type": "text"
      },
      "source": [
        "<a href=\"https://colab.research.google.com/github/attackgnome/TensorFlowCourses/blob/master/C3/W3/assignment/C3_W3_Assignment.ipynb\" target=\"_parent\"><img src=\"https://colab.research.google.com/assets/colab-badge.svg\" alt=\"Open In Colab\"/></a>"
      ]
    },
    {
      "cell_type": "code",
      "metadata": {
        "id": "zX4Kg8DUTKWO"
      },
      "source": [
        "#@title Licensed under the Apache License, Version 2.0 (the \"License\");\n",
        "# you may not use this file except in compliance with the License.\n",
        "# You may obtain a copy of the License at\n",
        "#\n",
        "# https://www.apache.org/licenses/LICENSE-2.0\n",
        "#\n",
        "# Unless required by applicable law or agreed to in writing, software\n",
        "# distributed under the License is distributed on an \"AS IS\" BASIS,\n",
        "# WITHOUT WARRANTIES OR CONDITIONS OF ANY KIND, either express or implied.\n",
        "# See the License for the specific language governing permissions and\n",
        "# limitations under the License."
      ],
      "execution_count": 1,
      "outputs": []
    },
    {
      "cell_type": "markdown",
      "metadata": {
        "id": "gnU1TV9kV5f9"
      },
      "source": [
        "**Note:** This notebook can run using TensorFlow 2.5.0"
      ]
    },
    {
      "cell_type": "code",
      "metadata": {
        "id": "qTZDRvo5V5f9"
      },
      "source": [
        "#!pip install tensorflow==2.5.0"
      ],
      "execution_count": 2,
      "outputs": []
    },
    {
      "cell_type": "code",
      "metadata": {
        "id": "hmA6EzkQJ5jt"
      },
      "source": [
        "import json\n",
        "import tensorflow as tf\n",
        "import csv\n",
        "import random\n",
        "import numpy as np\n",
        "\n",
        "from tensorflow.keras.preprocessing.text import Tokenizer\n",
        "from tensorflow.keras.preprocessing.sequence import pad_sequences\n",
        "from tensorflow.keras.utils import to_categorical\n",
        "from tensorflow.keras import regularizers\n",
        "from tensorflow.keras.callbacks import EarlyStopping\n",
        "\n",
        "\n",
        "embedding_dim = 100\n",
        "max_length = 16\n",
        "trunc_type='post'\n",
        "padding_type='post'\n",
        "oov_tok = \"<OOV>\"\n",
        "training_size= 320000 #Your dataset size here. Experiment using smaller values (i.e. 16000), but don't forget to train on at least 160000 to see the best effects\n",
        "test_portion=.1\n",
        "\n",
        "corpus = []\n"
      ],
      "execution_count": 12,
      "outputs": []
    },
    {
      "cell_type": "code",
      "metadata": {
        "id": "bM0l_dORKqE0",
        "colab": {
          "base_uri": "https://localhost:8080/"
        },
        "outputId": "2fedec62-ed81-40b0-9cb5-5e506c5df933"
      },
      "source": [
        "# Note that I cleaned the Stanford dataset to remove LATIN1 encoding to make it easier for Python CSV reader\n",
        "# You can do that yourself with:\n",
        "# iconv -f LATIN1 -t UTF8 training.1600000.processed.noemoticon.csv -o training_cleaned.csv\n",
        "\n",
        "# training_cleaned.csv\n",
        "!gdown --id 1wd8KaeCSHxt-nEpMeuHFSNWrDp8joUXJ\n",
        "\n",
        "num_sentences = 0\n",
        "\n",
        "with open(\"./training_cleaned.csv\") as csvfile:\n",
        "    reader = csv.reader(csvfile, delimiter=',')\n",
        "    for row in reader:\n",
        "        list_item=[]\n",
        "        \n",
        "        ### START CODE HERE\n",
        "        list_item.append(row[5])\n",
        "        label=row[0]\n",
        "        if label=='0':\n",
        "            list_item.append(0)\n",
        "        else:\n",
        "            list_item.append(1)\n",
        "        ### END CODE HERE\n",
        "        \n",
        "        num_sentences = num_sentences + 1\n",
        "        corpus.append(list_item)\n"
      ],
      "execution_count": 4,
      "outputs": [
        {
          "output_type": "stream",
          "name": "stdout",
          "text": [
            "Downloading...\n",
            "From: https://drive.google.com/uc?id=1wd8KaeCSHxt-nEpMeuHFSNWrDp8joUXJ\n",
            "To: /content/training_cleaned.csv\n",
            "100% 239M/239M [00:02<00:00, 106MB/s]\n"
          ]
        }
      ]
    },
    {
      "cell_type": "code",
      "metadata": {
        "id": "3kxblBUjEUX-",
        "colab": {
          "base_uri": "https://localhost:8080/"
        },
        "outputId": "06e180e9-2bc5-4fef-9b26-f02c27be0c6e"
      },
      "source": [
        "print(num_sentences)\n",
        "print(len(corpus))\n",
        "print(corpus[1])\n",
        "\n",
        "# Expected Output:\n",
        "# 1600000\n",
        "# 1600000\n",
        "# [\"is upset that he can't update his Facebook by texting it... and might cry as a result  School today also. Blah!\", 0]"
      ],
      "execution_count": 5,
      "outputs": [
        {
          "output_type": "stream",
          "name": "stdout",
          "text": [
            "1600000\n",
            "1600000\n",
            "[\"is upset that he can't update his Facebook by texting it... and might cry as a result  School today also. Blah!\", 0]\n"
          ]
        }
      ]
    },
    {
      "cell_type": "code",
      "metadata": {
        "id": "ohOGz24lsNAD"
      },
      "source": [
        "sentences=[]\n",
        "labels=[]\n",
        "random.shuffle(corpus)\n",
        "for x in range(training_size):\n",
        "    sentences.append(corpus[x][0])\n",
        "    labels.append(corpus[x][1])\n",
        "\n",
        "\n",
        "tokenizer = Tokenizer()\n",
        "tokenizer.fit_on_texts(sentences)\n",
        "\n",
        "word_index = tokenizer.word_index\n",
        "vocab_size=len(word_index)\n",
        "\n",
        "sequences = tokenizer.texts_to_sequences(sentences)\n",
        "padded = pad_sequences(sequences, maxlen=max_length, padding=padding_type, truncating=trunc_type)\n",
        "\n",
        "split = int(test_portion * training_size)\n",
        "\n",
        "test_sequences = np.array(padded[0:split])\n",
        "training_sequences = np.array(padded[split:training_size])\n",
        "test_labels = np.array(labels[0:split])\n",
        "training_labels = np.array(labels[split:training_size])"
      ],
      "execution_count": 6,
      "outputs": []
    },
    {
      "cell_type": "code",
      "metadata": {
        "id": "gIrtRem1En3N",
        "colab": {
          "base_uri": "https://localhost:8080/"
        },
        "outputId": "0b613440-7f04-45ac-9f52-889d7f457ad5"
      },
      "source": [
        "print(vocab_size)\n",
        "print(word_index['i'])\n",
        "# Expected Output\n",
        "# 138856\n",
        "# 1"
      ],
      "execution_count": 7,
      "outputs": [
        {
          "output_type": "stream",
          "name": "stdout",
          "text": [
            "227183\n",
            "1\n"
          ]
        }
      ]
    },
    {
      "cell_type": "code",
      "metadata": {
        "id": "C1zdgJkusRh0",
        "colab": {
          "base_uri": "https://localhost:8080/"
        },
        "outputId": "9e25dc14-6e9f-4835-b6c0-08aa040a3664"
      },
      "source": [
        "# Note this is the 100 dimension version of GloVe from Stanford\n",
        "\n",
        "# glove.6B.100d.txt\n",
        "!gdown --id 1W5vZy2etitAblLdFn8_DxnsQKzfFJ98g\n",
        "\n",
        "embeddings_index = {};\n",
        "with open('./glove.6B.100d.txt') as f:\n",
        "    for line in f:\n",
        "        values = line.split();\n",
        "        word = values[0];\n",
        "        coefs = np.asarray(values[1:], dtype='float32');\n",
        "        embeddings_index[word] = coefs;\n",
        "\n",
        "embeddings_matrix = np.zeros((vocab_size+1, embedding_dim));\n",
        "for word, i in word_index.items():\n",
        "    embedding_vector = embeddings_index.get(word);\n",
        "    if embedding_vector is not None:\n",
        "        embeddings_matrix[i] = embedding_vector;"
      ],
      "execution_count": 8,
      "outputs": [
        {
          "output_type": "stream",
          "name": "stdout",
          "text": [
            "Downloading...\n",
            "From: https://drive.google.com/uc?id=1W5vZy2etitAblLdFn8_DxnsQKzfFJ98g\n",
            "To: /content/glove.6B.100d.txt\n",
            "100% 347M/347M [00:01<00:00, 236MB/s]\n"
          ]
        }
      ]
    },
    {
      "cell_type": "code",
      "metadata": {
        "id": "71NLk_lpFLNt",
        "colab": {
          "base_uri": "https://localhost:8080/"
        },
        "outputId": "3e33a363-ffc6-40bf-8a43-1e31bc00882d"
      },
      "source": [
        "print(len(embeddings_matrix))\n",
        "# Expected Output\n",
        "# 138857"
      ],
      "execution_count": 9,
      "outputs": [
        {
          "output_type": "stream",
          "name": "stdout",
          "text": [
            "227184\n"
          ]
        }
      ]
    },
    {
      "cell_type": "code",
      "metadata": {
        "id": "iKKvbuEBOGFz",
        "colab": {
          "base_uri": "https://localhost:8080/"
        },
        "outputId": "401a78ef-1fb9-4c3b-a89d-cd7f76eb614d"
      },
      "source": [
        "es = EarlyStopping(monitor='val_loss', mode='min', verbose=1, patience=5)\n",
        "\n",
        "model = tf.keras.Sequential([\n",
        "    tf.keras.layers.Embedding(vocab_size+1, embedding_dim, input_length=max_length, weights=[embeddings_matrix], trainable=False),\n",
        "    tf.keras.layers.Dropout(0.2),\n",
        "    tf.keras.layers.Conv1D(64, 5, activation='relu'),\n",
        "    tf.keras.layers.MaxPooling1D(pool_size=4),\n",
        "    tf.keras.layers.LSTM(64),\n",
        "    tf.keras.layers.Dense(1, activation='sigmoid')\n",
        "    # YOUR CODE HERE - experiment with combining different types, such as convolutions and LSTMs\n",
        "])\n",
        "model.compile(loss='binary_crossentropy',optimizer='adam',metrics=['accuracy'])\n",
        "model.summary()\n",
        "\n",
        "num_epochs = 50\n",
        "history = model.fit(training_sequences, training_labels, epochs=num_epochs, validation_data=(test_sequences, test_labels), callbacks = [es], verbose=2)\n",
        "\n",
        "print(\"Training Complete\")\n"
      ],
      "execution_count": 15,
      "outputs": [
        {
          "output_type": "stream",
          "name": "stdout",
          "text": [
            "Model: \"sequential_4\"\n",
            "_________________________________________________________________\n",
            " Layer (type)                Output Shape              Param #   \n",
            "=================================================================\n",
            " embedding_4 (Embedding)     (None, 16, 100)           22718400  \n",
            "                                                                 \n",
            " dropout_4 (Dropout)         (None, 16, 100)           0         \n",
            "                                                                 \n",
            " conv1d_4 (Conv1D)           (None, 12, 64)            32064     \n",
            "                                                                 \n",
            " max_pooling1d_4 (MaxPooling  (None, 3, 64)            0         \n",
            " 1D)                                                             \n",
            "                                                                 \n",
            " lstm_4 (LSTM)               (None, 64)                33024     \n",
            "                                                                 \n",
            " dense_4 (Dense)             (None, 1)                 65        \n",
            "                                                                 \n",
            "=================================================================\n",
            "Total params: 22,783,553\n",
            "Trainable params: 65,153\n",
            "Non-trainable params: 22,718,400\n",
            "_________________________________________________________________\n",
            "Epoch 1/50\n",
            "9000/9000 - 102s - loss: 0.5510 - accuracy: 0.7124 - val_loss: 0.5143 - val_accuracy: 0.7419 - 102s/epoch - 11ms/step\n",
            "Epoch 2/50\n",
            "9000/9000 - 60s - loss: 0.5145 - accuracy: 0.7410 - val_loss: 0.4978 - val_accuracy: 0.7541 - 60s/epoch - 7ms/step\n",
            "Epoch 3/50\n",
            "9000/9000 - 58s - loss: 0.5003 - accuracy: 0.7506 - val_loss: 0.4901 - val_accuracy: 0.7600 - 58s/epoch - 6ms/step\n",
            "Epoch 4/50\n",
            "9000/9000 - 59s - loss: 0.4925 - accuracy: 0.7565 - val_loss: 0.4880 - val_accuracy: 0.7595 - 59s/epoch - 7ms/step\n",
            "Epoch 5/50\n",
            "9000/9000 - 61s - loss: 0.4856 - accuracy: 0.7615 - val_loss: 0.4860 - val_accuracy: 0.7625 - 61s/epoch - 7ms/step\n",
            "Epoch 6/50\n",
            "9000/9000 - 67s - loss: 0.4820 - accuracy: 0.7634 - val_loss: 0.4851 - val_accuracy: 0.7636 - 67s/epoch - 7ms/step\n",
            "Epoch 7/50\n",
            "9000/9000 - 60s - loss: 0.4774 - accuracy: 0.7667 - val_loss: 0.4850 - val_accuracy: 0.7617 - 60s/epoch - 7ms/step\n",
            "Epoch 8/50\n",
            "9000/9000 - 62s - loss: 0.4749 - accuracy: 0.7681 - val_loss: 0.4848 - val_accuracy: 0.7649 - 62s/epoch - 7ms/step\n",
            "Epoch 9/50\n",
            "9000/9000 - 70s - loss: 0.4734 - accuracy: 0.7689 - val_loss: 0.4842 - val_accuracy: 0.7654 - 70s/epoch - 8ms/step\n",
            "Epoch 10/50\n",
            "9000/9000 - 61s - loss: 0.4709 - accuracy: 0.7700 - val_loss: 0.4821 - val_accuracy: 0.7648 - 61s/epoch - 7ms/step\n",
            "Epoch 11/50\n",
            "9000/9000 - 57s - loss: 0.4686 - accuracy: 0.7719 - val_loss: 0.4914 - val_accuracy: 0.7620 - 57s/epoch - 6ms/step\n",
            "Epoch 12/50\n",
            "9000/9000 - 54s - loss: 0.4674 - accuracy: 0.7728 - val_loss: 0.4843 - val_accuracy: 0.7617 - 54s/epoch - 6ms/step\n",
            "Epoch 13/50\n",
            "9000/9000 - 55s - loss: 0.4668 - accuracy: 0.7734 - val_loss: 0.4812 - val_accuracy: 0.7634 - 55s/epoch - 6ms/step\n",
            "Epoch 14/50\n",
            "9000/9000 - 53s - loss: 0.4642 - accuracy: 0.7751 - val_loss: 0.4895 - val_accuracy: 0.7640 - 53s/epoch - 6ms/step\n",
            "Epoch 15/50\n",
            "9000/9000 - 62s - loss: 0.4636 - accuracy: 0.7744 - val_loss: 0.4850 - val_accuracy: 0.7643 - 62s/epoch - 7ms/step\n",
            "Epoch 16/50\n",
            "9000/9000 - 55s - loss: 0.4631 - accuracy: 0.7750 - val_loss: 0.4829 - val_accuracy: 0.7648 - 55s/epoch - 6ms/step\n",
            "Epoch 17/50\n",
            "9000/9000 - 58s - loss: 0.4620 - accuracy: 0.7753 - val_loss: 0.4828 - val_accuracy: 0.7653 - 58s/epoch - 6ms/step\n",
            "Epoch 18/50\n",
            "9000/9000 - 53s - loss: 0.4622 - accuracy: 0.7755 - val_loss: 0.4842 - val_accuracy: 0.7652 - 53s/epoch - 6ms/step\n",
            "Epoch 00018: early stopping\n",
            "Training Complete\n"
          ]
        }
      ]
    },
    {
      "cell_type": "code",
      "metadata": {
        "id": "qxju4ItJKO8F",
        "colab": {
          "base_uri": "https://localhost:8080/",
          "height": 608
        },
        "outputId": "c9755210-2707-4b13-be90-fd166a2d45d7"
      },
      "source": [
        "import matplotlib.image  as mpimg\n",
        "import matplotlib.pyplot as plt\n",
        "\n",
        "#-----------------------------------------------------------\n",
        "# Retrieve a list of list results on training and test data\n",
        "# sets for each training epoch\n",
        "#-----------------------------------------------------------\n",
        "acc=history.history['accuracy']\n",
        "val_acc=history.history['val_accuracy']\n",
        "loss=history.history['loss']\n",
        "val_loss=history.history['val_loss']\n",
        "\n",
        "epochs=range(len(acc)) # Get number of epochs\n",
        "\n",
        "#------------------------------------------------\n",
        "# Plot training and validation accuracy per epoch\n",
        "#------------------------------------------------\n",
        "plt.plot(epochs, acc, 'r')\n",
        "plt.plot(epochs, val_acc, 'b')\n",
        "plt.title('Training and validation accuracy')\n",
        "plt.xlabel(\"Epochs\")\n",
        "plt.ylabel(\"Accuracy\")\n",
        "plt.legend([\"Accuracy\", \"Validation Accuracy\"])\n",
        "\n",
        "plt.figure()\n",
        "\n",
        "#------------------------------------------------\n",
        "# Plot training and validation loss per epoch\n",
        "#------------------------------------------------\n",
        "plt.plot(epochs, loss, 'r')\n",
        "plt.plot(epochs, val_loss, 'b')\n",
        "plt.title('Training and validation loss')\n",
        "plt.xlabel(\"Epochs\")\n",
        "plt.ylabel(\"Loss\")\n",
        "plt.legend([\"Loss\", \"Validation Loss\"])\n",
        "\n",
        "plt.figure()\n",
        "\n",
        "\n",
        "# Expected Output\n",
        "# A chart where the validation loss does not increase sharply!"
      ],
      "execution_count": 16,
      "outputs": [
        {
          "output_type": "execute_result",
          "data": {
            "text/plain": [
              "<Figure size 432x288 with 0 Axes>"
            ]
          },
          "metadata": {},
          "execution_count": 16
        },
        {
          "output_type": "display_data",
          "data": {
            "image/png": "[encoded data removed]",
            "text/plain": [
              "<Figure size 432x288 with 1 Axes>"
            ]
          },
          "metadata": {
            "needs_background": "light"
          }
        },
        {
          "output_type": "display_data",
          "data": {
            "image/png": "[encoded data removed]",
            "text/plain": [
              "<Figure size 432x288 with 1 Axes>"
            ]
          },
          "metadata": {
            "needs_background": "light"
          }
        },
        {
          "output_type": "display_data",
          "data": {
            "text/plain": [
              "<Figure size 432x288 with 0 Axes>"
            ]
          },
          "metadata": {}
        }
      ]
    }
  ]
}