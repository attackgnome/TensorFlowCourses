{
  "nbformat": 4,
  "nbformat_minor": 0,
  "metadata": {
    "accelerator": "GPU",
    "colab": {
      "name": "C3_W4_Assignment.ipynb",
      "provenance": [],
      "toc_visible": true,
      "include_colab_link": true
    },
    "kernelspec": {
      "display_name": "Python 3",
      "language": "python",
      "name": "python3"
    },
    "language_info": {
      "codemirror_mode": {
        "name": "ipython",
        "version": 3
      },
      "file_extension": ".py",
      "mimetype": "text/x-python",
      "name": "python",
      "nbconvert_exporter": "python",
      "pygments_lexer": "ipython3",
      "version": "3.8.5"
    }
  },
  "cells": [
    {
      "cell_type": "markdown",
      "metadata": {
        "id": "view-in-github",
        "colab_type": "text"
      },
      "source": [
        "<a href=\"https://colab.research.google.com/github/attackgnome/TensorFlowCourses/blob/master/C3/W4/assignment/C3_W4_Assignment.ipynb\" target=\"_parent\"><img src=\"https://colab.research.google.com/assets/colab-badge.svg\" alt=\"Open In Colab\"/></a>"
      ]
    },
    {
      "cell_type": "code",
      "metadata": {
        "id": "T2XpcPvbXalN"
      },
      "source": [
        "#@title Licensed under the Apache License, Version 2.0 (the \"License\");\n",
        "# you may not use this file except in compliance with the License.\n",
        "# You may obtain a copy of the License at\n",
        "#\n",
        "# https://www.apache.org/licenses/LICENSE-2.0\n",
        "#\n",
        "# Unless required by applicable law or agreed to in writing, software\n",
        "# distributed under the License is distributed on an \"AS IS\" BASIS,\n",
        "# WITHOUT WARRANTIES OR CONDITIONS OF ANY KIND, either express or implied.\n",
        "# See the License for the specific language governing permissions and\n",
        "# limitations under the License."
      ],
      "execution_count": 1,
      "outputs": []
    },
    {
      "cell_type": "markdown",
      "metadata": {
        "id": "eK88h3Y5XalO"
      },
      "source": [
        "**Note:** This notebook can run using TensorFlow 2.5.0"
      ]
    },
    {
      "cell_type": "code",
      "metadata": {
        "id": "zX4Kg8DUTKWO"
      },
      "source": [
        "#!pip install tensorflow==2.5.0"
      ],
      "execution_count": null,
      "outputs": []
    },
    {
      "cell_type": "code",
      "metadata": {
        "id": "BOwsuGQQY9OL"
      },
      "source": [
        "from tensorflow.keras.preprocessing.sequence import pad_sequences\n",
        "from tensorflow.keras.layers import Embedding, LSTM, Dense, Dropout, Bidirectional\n",
        "from tensorflow.keras.preprocessing.text import Tokenizer\n",
        "from tensorflow.keras.models import Sequential\n",
        "from tensorflow.keras.optimizers import Adam\n",
        "### YOUR CODE HERE\n",
        "from tensorflow.keras import regularizers\n",
        "from tensorflow.keras.callbacks import EarlyStopping\n",
        "###\n",
        "import tensorflow.keras.utils as ku \n",
        "import numpy as np "
      ],
      "execution_count": 12,
      "outputs": []
    },
    {
      "cell_type": "code",
      "metadata": {
        "id": "PRnDnCW-Z7qv",
        "colab": {
          "base_uri": "https://localhost:8080/"
        },
        "outputId": "67e47e33-cbb0-48c8-9b9d-f489b2d397df"
      },
      "source": [
        "tokenizer = Tokenizer()\n",
        "\n",
        "# sonnets.txt\n",
        "!gdown --id 108jAePKK4R3BVYBbYJZ32JWUwxeMg20K\n",
        "\n",
        "data = open('./sonnets.txt').read()\n",
        "\n",
        "corpus = data.lower().split(\"\\n\")\n",
        "\n",
        "\n",
        "tokenizer.fit_on_texts(corpus)\n",
        "total_words = len(tokenizer.word_index) + 1\n",
        "\n",
        "# create input sequences using list of tokens\n",
        "input_sequences = []\n",
        "for line in corpus:\n",
        "\ttoken_list = tokenizer.texts_to_sequences([line])[0]\n",
        "\tfor i in range(1, len(token_list)):\n",
        "\t\tn_gram_sequence = token_list[:i+1]\n",
        "\t\tinput_sequences.append(n_gram_sequence)\n",
        "\n",
        "\n",
        "# pad sequences \n",
        "max_sequence_len = max([len(x) for x in input_sequences])\n",
        "input_sequences = np.array(pad_sequences(input_sequences, maxlen=max_sequence_len, padding='pre'))\n",
        "\n",
        "# create predictors and label\n",
        "predictors, label = input_sequences[:,:-1],input_sequences[:,-1]\n",
        "\n",
        "label = ku.to_categorical(label, num_classes=total_words)"
      ],
      "execution_count": 4,
      "outputs": [
        {
          "output_type": "stream",
          "name": "stdout",
          "text": [
            "Downloading...\n",
            "From: https://drive.google.com/uc?id=108jAePKK4R3BVYBbYJZ32JWUwxeMg20K\n",
            "To: /content/sonnets.txt\n",
            "\r  0% 0.00/93.6k [00:00<?, ?B/s]\r100% 93.6k/93.6k [00:00<00:00, 35.9MB/s]\n"
          ]
        }
      ]
    },
    {
      "cell_type": "code",
      "metadata": {
        "id": "w9vH8Y59ajYL",
        "colab": {
          "base_uri": "https://localhost:8080/"
        },
        "outputId": "8e911fa3-0d1b-4d0d-d8ab-13d9a4cf4b8f"
      },
      "source": [
        "### START CODE HERE\n",
        "model = Sequential()\n",
        "model.add(Embedding(total_words, 100, input_length=max_sequence_len-1))\n",
        "model.add(Bidirectional(LSTM(150, return_sequences = True)))\n",
        "model.add(Dropout(.2))\n",
        "model.add(LSTM(100))\n",
        "model.add(Dense(total_words/2, activation='relu', kernel_regularizer=regularizers.l2(0.01)))\n",
        "model.add(Dense(total_words, activation='softmax'))\n",
        "# Pick an optimizer\n",
        "model.compile(loss='categorical_crossentropy', optimizer='adam', metrics=['accuracy'])\n",
        "### END CODE HERE\n",
        "    \n",
        "print(model.summary())"
      ],
      "execution_count": 11,
      "outputs": [
        {
          "output_type": "stream",
          "name": "stdout",
          "text": [
            "Model: \"sequential_4\"\n",
            "_________________________________________________________________\n",
            " Layer (type)                Output Shape              Param #   \n",
            "=================================================================\n",
            " embedding_4 (Embedding)     (None, 10, 100)           321100    \n",
            "                                                                 \n",
            " bidirectional_3 (Bidirectio  (None, 10, 300)          301200    \n",
            " nal)                                                            \n",
            "                                                                 \n",
            " dropout_4 (Dropout)         (None, 10, 300)           0         \n",
            "                                                                 \n",
            " lstm_9 (LSTM)               (None, 100)               160400    \n",
            "                                                                 \n",
            " dense_2 (Dense)             (None, 1605)              162105    \n",
            "                                                                 \n",
            " dense_3 (Dense)             (None, 3211)              5156866   \n",
            "                                                                 \n",
            "=================================================================\n",
            "Total params: 6,101,671\n",
            "Trainable params: 6,101,671\n",
            "Non-trainable params: 0\n",
            "_________________________________________________________________\n",
            "None\n"
          ]
        }
      ]
    },
    {
      "cell_type": "code",
      "metadata": {
        "id": "AIg2f1HBxqof",
        "colab": {
          "base_uri": "https://localhost:8080/"
        },
        "outputId": "b8a85b5c-df32-43b8-dd1e-42aa58c767e8"
      },
      "source": [
        " earlystop = EarlyStopping(monitor='loss', min_delta=0, patience=5, verbose=0, mode='auto')\n",
        " history = model.fit(predictors, label, epochs=100, verbose=1, callbacks = [earlystop])"
      ],
      "execution_count": 14,
      "outputs": [
        {
          "output_type": "stream",
          "name": "stdout",
          "text": [
            "Epoch 1/100\n",
            "484/484 [==============================] - 15s 31ms/step - loss: 4.8177 - accuracy: 0.1158\n",
            "Epoch 2/100\n",
            "484/484 [==============================] - 12s 26ms/step - loss: 4.7025 - accuracy: 0.1231\n",
            "Epoch 3/100\n",
            "484/484 [==============================] - 12s 26ms/step - loss: 4.5949 - accuracy: 0.1345\n",
            "Epoch 4/100\n",
            "484/484 [==============================] - 13s 26ms/step - loss: 4.4852 - accuracy: 0.1427\n",
            "Epoch 5/100\n",
            "484/484 [==============================] - 13s 26ms/step - loss: 4.3747 - accuracy: 0.1568\n",
            "Epoch 6/100\n",
            "484/484 [==============================] - 12s 26ms/step - loss: 4.2708 - accuracy: 0.1680\n",
            "Epoch 7/100\n",
            "484/484 [==============================] - 12s 26ms/step - loss: 4.1593 - accuracy: 0.1842\n",
            "Epoch 8/100\n",
            "484/484 [==============================] - 12s 26ms/step - loss: 4.0501 - accuracy: 0.2000\n",
            "Epoch 9/100\n",
            "484/484 [==============================] - 13s 26ms/step - loss: 3.9450 - accuracy: 0.2133\n",
            "Epoch 10/100\n",
            "484/484 [==============================] - 13s 26ms/step - loss: 3.8429 - accuracy: 0.2345\n",
            "Epoch 11/100\n",
            "484/484 [==============================] - 13s 26ms/step - loss: 3.7394 - accuracy: 0.2520\n",
            "Epoch 12/100\n",
            "484/484 [==============================] - 13s 26ms/step - loss: 3.6421 - accuracy: 0.2718\n",
            "Epoch 13/100\n",
            "484/484 [==============================] - 13s 26ms/step - loss: 3.5491 - accuracy: 0.2866\n",
            "Epoch 14/100\n",
            "484/484 [==============================] - 13s 26ms/step - loss: 3.4551 - accuracy: 0.3100\n",
            "Epoch 15/100\n",
            "484/484 [==============================] - 13s 26ms/step - loss: 3.3681 - accuracy: 0.3280\n",
            "Epoch 16/100\n",
            "484/484 [==============================] - 13s 26ms/step - loss: 3.2658 - accuracy: 0.3520\n",
            "Epoch 17/100\n",
            "484/484 [==============================] - 13s 26ms/step - loss: 3.1956 - accuracy: 0.3688\n",
            "Epoch 18/100\n",
            "484/484 [==============================] - 13s 26ms/step - loss: 3.1157 - accuracy: 0.3814\n",
            "Epoch 19/100\n",
            "484/484 [==============================] - 13s 26ms/step - loss: 3.0311 - accuracy: 0.4025\n",
            "Epoch 20/100\n",
            "484/484 [==============================] - 13s 26ms/step - loss: 2.9539 - accuracy: 0.4208\n",
            "Epoch 21/100\n",
            "484/484 [==============================] - 13s 26ms/step - loss: 2.8787 - accuracy: 0.4367\n",
            "Epoch 22/100\n",
            "484/484 [==============================] - 13s 26ms/step - loss: 2.8190 - accuracy: 0.4499\n",
            "Epoch 23/100\n",
            "484/484 [==============================] - 12s 26ms/step - loss: 2.7458 - accuracy: 0.4689\n",
            "Epoch 24/100\n",
            "484/484 [==============================] - 13s 26ms/step - loss: 2.6810 - accuracy: 0.4836\n",
            "Epoch 25/100\n",
            "484/484 [==============================] - 13s 26ms/step - loss: 2.6151 - accuracy: 0.4981\n",
            "Epoch 26/100\n",
            "484/484 [==============================] - 13s 26ms/step - loss: 2.5640 - accuracy: 0.5118\n",
            "Epoch 27/100\n",
            "484/484 [==============================] - 13s 26ms/step - loss: 2.4918 - accuracy: 0.5282\n",
            "Epoch 28/100\n",
            "484/484 [==============================] - 13s 26ms/step - loss: 2.4321 - accuracy: 0.5409\n",
            "Epoch 29/100\n",
            "484/484 [==============================] - 13s 26ms/step - loss: 2.3856 - accuracy: 0.5488\n",
            "Epoch 30/100\n",
            "484/484 [==============================] - 13s 26ms/step - loss: 2.3398 - accuracy: 0.5576\n",
            "Epoch 31/100\n",
            "484/484 [==============================] - 12s 26ms/step - loss: 2.2976 - accuracy: 0.5699\n",
            "Epoch 32/100\n",
            "484/484 [==============================] - 12s 26ms/step - loss: 2.2380 - accuracy: 0.5837\n",
            "Epoch 33/100\n",
            "484/484 [==============================] - 12s 25ms/step - loss: 2.1899 - accuracy: 0.5920\n",
            "Epoch 34/100\n",
            "484/484 [==============================] - 12s 26ms/step - loss: 2.1425 - accuracy: 0.6044\n",
            "Epoch 35/100\n",
            "484/484 [==============================] - 12s 26ms/step - loss: 2.0959 - accuracy: 0.6156\n",
            "Epoch 36/100\n",
            "484/484 [==============================] - 12s 26ms/step - loss: 2.0559 - accuracy: 0.6233\n",
            "Epoch 37/100\n",
            "484/484 [==============================] - 12s 25ms/step - loss: 2.0137 - accuracy: 0.6325\n",
            "Epoch 38/100\n",
            "484/484 [==============================] - 12s 25ms/step - loss: 1.9888 - accuracy: 0.6361\n",
            "Epoch 39/100\n",
            "484/484 [==============================] - 12s 26ms/step - loss: 1.9342 - accuracy: 0.6490\n",
            "Epoch 40/100\n",
            "484/484 [==============================] - 12s 26ms/step - loss: 1.8980 - accuracy: 0.6568\n",
            "Epoch 41/100\n",
            "484/484 [==============================] - 12s 26ms/step - loss: 1.8675 - accuracy: 0.6612\n",
            "Epoch 42/100\n",
            "484/484 [==============================] - 12s 26ms/step - loss: 1.8468 - accuracy: 0.6704\n",
            "Epoch 43/100\n",
            "484/484 [==============================] - 12s 26ms/step - loss: 1.7980 - accuracy: 0.6808\n",
            "Epoch 44/100\n",
            "484/484 [==============================] - 12s 26ms/step - loss: 1.7632 - accuracy: 0.6887\n",
            "Epoch 45/100\n",
            "484/484 [==============================] - 12s 26ms/step - loss: 1.7461 - accuracy: 0.6887\n",
            "Epoch 46/100\n",
            "484/484 [==============================] - 12s 26ms/step - loss: 1.7165 - accuracy: 0.6972\n",
            "Epoch 47/100\n",
            "484/484 [==============================] - 12s 26ms/step - loss: 1.6846 - accuracy: 0.7039\n",
            "Epoch 48/100\n",
            "484/484 [==============================] - 12s 26ms/step - loss: 1.6502 - accuracy: 0.7110\n",
            "Epoch 49/100\n",
            "484/484 [==============================] - 12s 26ms/step - loss: 1.6345 - accuracy: 0.7128\n",
            "Epoch 50/100\n",
            "484/484 [==============================] - 12s 26ms/step - loss: 1.6070 - accuracy: 0.7197\n",
            "Epoch 51/100\n",
            "484/484 [==============================] - 12s 26ms/step - loss: 1.5833 - accuracy: 0.7224\n",
            "Epoch 52/100\n",
            "484/484 [==============================] - 12s 25ms/step - loss: 1.5605 - accuracy: 0.7277\n",
            "Epoch 53/100\n",
            "484/484 [==============================] - 12s 25ms/step - loss: 1.5498 - accuracy: 0.7293\n",
            "Epoch 54/100\n",
            "484/484 [==============================] - 12s 25ms/step - loss: 1.5142 - accuracy: 0.7388\n",
            "Epoch 55/100\n",
            "484/484 [==============================] - 12s 26ms/step - loss: 1.4828 - accuracy: 0.7460\n",
            "Epoch 56/100\n",
            "484/484 [==============================] - 12s 26ms/step - loss: 1.4749 - accuracy: 0.7442\n",
            "Epoch 57/100\n",
            "484/484 [==============================] - 12s 25ms/step - loss: 1.4600 - accuracy: 0.7480\n",
            "Epoch 58/100\n",
            "484/484 [==============================] - 12s 26ms/step - loss: 1.4309 - accuracy: 0.7525\n",
            "Epoch 59/100\n",
            "484/484 [==============================] - 12s 26ms/step - loss: 1.4105 - accuracy: 0.7566\n",
            "Epoch 60/100\n",
            "484/484 [==============================] - 12s 26ms/step - loss: 1.3994 - accuracy: 0.7609\n",
            "Epoch 61/100\n",
            "484/484 [==============================] - 12s 26ms/step - loss: 1.3779 - accuracy: 0.7625\n",
            "Epoch 62/100\n",
            "484/484 [==============================] - 12s 26ms/step - loss: 1.3625 - accuracy: 0.7663\n",
            "Epoch 63/100\n",
            "484/484 [==============================] - 12s 26ms/step - loss: 1.3381 - accuracy: 0.7708\n",
            "Epoch 64/100\n",
            "484/484 [==============================] - 12s 25ms/step - loss: 1.3094 - accuracy: 0.7784\n",
            "Epoch 65/100\n",
            "484/484 [==============================] - 12s 25ms/step - loss: 1.3092 - accuracy: 0.7734\n",
            "Epoch 66/100\n",
            "484/484 [==============================] - 12s 24ms/step - loss: 1.3161 - accuracy: 0.7715\n",
            "Epoch 67/100\n",
            "484/484 [==============================] - 12s 25ms/step - loss: 1.2928 - accuracy: 0.7773\n",
            "Epoch 68/100\n",
            "484/484 [==============================] - 12s 25ms/step - loss: 1.2677 - accuracy: 0.7850\n",
            "Epoch 69/100\n",
            "484/484 [==============================] - 12s 25ms/step - loss: 1.2560 - accuracy: 0.7844\n",
            "Epoch 70/100\n",
            "484/484 [==============================] - 12s 25ms/step - loss: 1.2512 - accuracy: 0.7839\n",
            "Epoch 71/100\n",
            "484/484 [==============================] - 12s 25ms/step - loss: 1.2339 - accuracy: 0.7873\n",
            "Epoch 72/100\n",
            "484/484 [==============================] - 12s 24ms/step - loss: 1.2173 - accuracy: 0.7897\n",
            "Epoch 73/100\n",
            "484/484 [==============================] - 12s 25ms/step - loss: 1.2023 - accuracy: 0.7923\n",
            "Epoch 74/100\n",
            "484/484 [==============================] - 12s 25ms/step - loss: 1.1985 - accuracy: 0.7932\n",
            "Epoch 75/100\n",
            "484/484 [==============================] - 12s 25ms/step - loss: 1.1940 - accuracy: 0.7909\n",
            "Epoch 76/100\n",
            "484/484 [==============================] - 12s 25ms/step - loss: 1.1850 - accuracy: 0.7938\n",
            "Epoch 77/100\n",
            "484/484 [==============================] - 12s 25ms/step - loss: 1.1641 - accuracy: 0.7976\n",
            "Epoch 78/100\n",
            "484/484 [==============================] - 12s 25ms/step - loss: 1.1544 - accuracy: 0.7986\n",
            "Epoch 79/100\n",
            "484/484 [==============================] - 12s 25ms/step - loss: 1.1548 - accuracy: 0.8001\n",
            "Epoch 80/100\n",
            "484/484 [==============================] - 12s 25ms/step - loss: 1.1364 - accuracy: 0.8024\n",
            "Epoch 81/100\n",
            "484/484 [==============================] - 12s 25ms/step - loss: 1.1274 - accuracy: 0.8040\n",
            "Epoch 82/100\n",
            "484/484 [==============================] - 12s 25ms/step - loss: 1.1117 - accuracy: 0.8064\n",
            "Epoch 83/100\n",
            "484/484 [==============================] - 12s 25ms/step - loss: 1.1077 - accuracy: 0.8088\n",
            "Epoch 84/100\n",
            "484/484 [==============================] - 12s 25ms/step - loss: 1.1098 - accuracy: 0.8062\n",
            "Epoch 85/100\n",
            "484/484 [==============================] - 12s 25ms/step - loss: 1.1098 - accuracy: 0.8043\n",
            "Epoch 86/100\n",
            "484/484 [==============================] - 12s 25ms/step - loss: 1.0957 - accuracy: 0.8079\n",
            "Epoch 87/100\n",
            "484/484 [==============================] - 12s 25ms/step - loss: 1.0740 - accuracy: 0.8102\n",
            "Epoch 88/100\n",
            "484/484 [==============================] - 12s 25ms/step - loss: 1.0596 - accuracy: 0.8146\n",
            "Epoch 89/100\n",
            "484/484 [==============================] - 12s 25ms/step - loss: 1.0628 - accuracy: 0.8122\n",
            "Epoch 90/100\n",
            "484/484 [==============================] - 12s 25ms/step - loss: 1.0702 - accuracy: 0.8088\n",
            "Epoch 91/100\n",
            "484/484 [==============================] - 12s 25ms/step - loss: 1.0636 - accuracy: 0.8104\n",
            "Epoch 92/100\n",
            "484/484 [==============================] - 12s 25ms/step - loss: 1.0502 - accuracy: 0.8135\n",
            "Epoch 93/100\n",
            "484/484 [==============================] - 12s 25ms/step - loss: 1.0265 - accuracy: 0.8178\n",
            "Epoch 94/100\n",
            "484/484 [==============================] - 12s 25ms/step - loss: 1.0251 - accuracy: 0.8201\n",
            "Epoch 95/100\n",
            "484/484 [==============================] - 12s 25ms/step - loss: 1.0185 - accuracy: 0.8168\n",
            "Epoch 96/100\n",
            "484/484 [==============================] - 12s 25ms/step - loss: 1.0144 - accuracy: 0.8159\n",
            "Epoch 97/100\n",
            "484/484 [==============================] - 12s 25ms/step - loss: 1.0143 - accuracy: 0.8185\n",
            "Epoch 98/100\n",
            "484/484 [==============================] - 12s 25ms/step - loss: 1.0088 - accuracy: 0.8190\n",
            "Epoch 99/100\n",
            "484/484 [==============================] - 12s 25ms/step - loss: 1.0117 - accuracy: 0.8179\n",
            "Epoch 100/100\n",
            "484/484 [==============================] - 12s 25ms/step - loss: 1.0013 - accuracy: 0.8174\n"
          ]
        }
      ]
    },
    {
      "cell_type": "code",
      "metadata": {
        "id": "1fXTEO3GJ282",
        "colab": {
          "base_uri": "https://localhost:8080/",
          "height": 545
        },
        "outputId": "ee0565b4-b76c-4907-885c-befbbd983256"
      },
      "source": [
        "import matplotlib.pyplot as plt\n",
        "acc = history.history['accuracy']\n",
        "loss = history.history['loss']\n",
        "\n",
        "epochs = range(len(acc))\n",
        "\n",
        "plt.plot(epochs, acc, 'b', label='Training accuracy')\n",
        "plt.title('Training accuracy')\n",
        "\n",
        "plt.figure()\n",
        "\n",
        "plt.plot(epochs, loss, 'b', label='Training Loss')\n",
        "plt.title('Training loss')\n",
        "plt.legend()\n",
        "\n",
        "plt.show()"
      ],
      "execution_count": 15,
      "outputs": [
        {
          "output_type": "display_data",
          "data": {
            "image/png": "[encoded data removed]",
            "text/plain": [
              "<Figure size 432x288 with 1 Axes>"
            ]
          },
          "metadata": {
            "needs_background": "light"
          }
        },
        {
          "output_type": "display_data",
          "data": {
            "image/png": "[encoded data removed]",
            "text/plain": [
              "<Figure size 432x288 with 1 Axes>"
            ]
          },
          "metadata": {
            "needs_background": "light"
          }
        }
      ]
    },
    {
      "cell_type": "code",
      "metadata": {
        "id": "6Vc6PHgxa6Hm",
        "colab": {
          "base_uri": "https://localhost:8080/"
        },
        "outputId": "863acbcb-76cf-4ced-c06c-a3d4c3e8b531"
      },
      "source": [
        "seed_text = \"Help me Obi Wan Kenobi, you're my only hope\"\n",
        "next_words = 100\n",
        "  \n",
        "for _ in range(next_words):\n",
        "\ttoken_list = tokenizer.texts_to_sequences([seed_text])[0]\n",
        "\ttoken_list = pad_sequences([token_list], maxlen=max_sequence_len-1, padding='pre')\n",
        "\tpredicted = np.argmax(model.predict(token_list, verbose=0), axis=-1) # model.predict_classes(token_list, verbose=0)\n",
        "\toutput_word = \"\"\n",
        "\tfor word, index in tokenizer.word_index.items():\n",
        "\t\tif index == predicted:\n",
        "\t\t\toutput_word = word\n",
        "\t\t\tbreak\n",
        "\tseed_text += \" \" + output_word\n",
        "print(seed_text)"
      ],
      "execution_count": 18,
      "outputs": [
        {
          "output_type": "stream",
          "name": "stdout",
          "text": [
            "Help me Obi Wan Kenobi, you're my only hope or happy some die so sun blind eye shall view be rare rare express'd live or so taste spite as mother men care doth either's breast guest night a antique rhyme guest ' doth grew short crime miss'd near fangled ill day be away dost ranged strive to be alone go and lie of thee now be thee now seem bold twain twain lie dear eye blind eye than mine eye prove thee dost be so better still ' doth prove young forth die twain twain friend of long forth pleasure shame as now stay doth lose one lie as\n"
          ]
        }
      ]
    }
  ]
}