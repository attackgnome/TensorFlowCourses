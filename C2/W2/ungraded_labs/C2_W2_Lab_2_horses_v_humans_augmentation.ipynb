{
  "nbformat": 4,
  "nbformat_minor": 0,
  "metadata": {
    "accelerator": "GPU",
    "colab": {
      "name": "C2_W2_Lab_2_horses_v_humans_augmentation.ipynb",
      "provenance": [],
      "collapsed_sections": [],
      "toc_visible": true,
      "include_colab_link": true
    },
    "kernelspec": {
      "display_name": "Python 3",
      "language": "python",
      "name": "python3"
    },
    "language_info": {
      "codemirror_mode": {
        "name": "ipython",
        "version": 3
      },
      "file_extension": ".py",
      "mimetype": "text/x-python",
      "name": "python",
      "nbconvert_exporter": "python",
      "pygments_lexer": "ipython3",
      "version": "3.8.5"
    }
  },
  "cells": [
    {
      "cell_type": "markdown",
      "metadata": {
        "id": "view-in-github",
        "colab_type": "text"
      },
      "source": [
        "<a href=\"https://colab.research.google.com/github/attackgnome/TensorFlowCourses/blob/master/C2/W2/ungraded_labs/C2_W2_Lab_2_horses_v_humans_augmentation.ipynb\" target=\"_parent\"><img src=\"https://colab.research.google.com/assets/colab-badge.svg\" alt=\"Open In Colab\"/></a>"
      ]
    },
    {
      "cell_type": "markdown",
      "metadata": {
        "id": "rX8mhOLljYeM"
      },
      "source": [
        "##### Copyright 2019 The TensorFlow Authors."
      ]
    },
    {
      "cell_type": "code",
      "metadata": {
        "cellView": "form",
        "id": "BZSlp3DAjdYf"
      },
      "source": [
        "#@title Licensed under the Apache License, Version 2.0 (the \"License\");\n",
        "# you may not use this file except in compliance with the License.\n",
        "# You may obtain a copy of the License at\n",
        "#\n",
        "# https://www.apache.org/licenses/LICENSE-2.0\n",
        "#\n",
        "# Unless required by applicable law or agreed to in writing, software\n",
        "# distributed under the License is distributed on an \"AS IS\" BASIS,\n",
        "# WITHOUT WARRANTIES OR CONDITIONS OF ANY KIND, either express or implied.\n",
        "# See the License for the specific language governing permissions and\n",
        "# limitations under the License."
      ],
      "execution_count": null,
      "outputs": []
    },
    {
      "cell_type": "code",
      "metadata": {
        "id": "RXZT2UsyIVe_",
        "outputId": "a8a1139c-f808-473b-a92b-fd8c2a3c2e4f",
        "colab": {
          "base_uri": "https://localhost:8080/"
        }
      },
      "source": [
        "# horses-or-humans dataset\n",
        "!gdown --id 1onaG42NZft3wCE1WH0GDEbUhu75fedP5\n",
        "\n",
        "# horses-or-humans validation dataset\n",
        "!gdown --id 1LYeusSEIiZQpwN-mthh5nKdA75VsKG1U\n",
        "  \n",
        "import os\n",
        "import zipfile\n",
        "\n",
        "zip_ref = zipfile.ZipFile('./horse-or-human.zip', 'r')\n",
        "zip_ref.extractall('tmp/horse-or-human')\n",
        "\n",
        "zip_ref = zipfile.ZipFile('./validation-horse-or-human.zip', 'r')\n",
        "zip_ref.extractall('tmp/validation-horse-or-human')\n",
        "\n",
        "zip_ref.close()\n",
        "\n",
        "# Directory with our training horse pictures\n",
        "train_horse_dir = os.path.join('tmp/horse-or-human/horses')\n",
        "\n",
        "# Directory with our training human pictures\n",
        "train_human_dir = os.path.join('tmp/horse-or-human/humans')\n",
        "\n",
        "# Directory with our training horse pictures\n",
        "validation_horse_dir = os.path.join('tmp/validation-horse-or-human/horses')\n",
        "\n",
        "# Directory with our training human pictures\n",
        "validation_human_dir = os.path.join('tmp/validation-horse-or-human/humans')"
      ],
      "execution_count": 1,
      "outputs": [
        {
          "output_type": "stream",
          "name": "stdout",
          "text": [
            "Downloading...\n",
            "From: https://drive.google.com/uc?id=1onaG42NZft3wCE1WH0GDEbUhu75fedP5\n",
            "To: /content/horse-or-human.zip\n",
            "100% 150M/150M [00:02<00:00, 50.1MB/s]\n",
            "Downloading...\n",
            "From: https://drive.google.com/uc?id=1LYeusSEIiZQpwN-mthh5nKdA75VsKG1U\n",
            "To: /content/validation-horse-or-human.zip\n",
            "100% 11.5M/11.5M [00:00<00:00, 96.8MB/s]\n"
          ]
        }
      ]
    },
    {
      "cell_type": "markdown",
      "metadata": {
        "id": "5oqBkNBJmtUv"
      },
      "source": [
        "## Building a Small Model from Scratch\n",
        "\n",
        "But before we continue, let's start defining the model:\n",
        "\n",
        "Step 1 will be to import tensorflow."
      ]
    },
    {
      "cell_type": "code",
      "metadata": {
        "id": "qvfZg3LQbD-5"
      },
      "source": [
        "import tensorflow as tf"
      ],
      "execution_count": 2,
      "outputs": []
    },
    {
      "cell_type": "markdown",
      "metadata": {
        "id": "BnhYCP4tdqjC"
      },
      "source": [
        "We then add convolutional layers as in the previous example, and flatten the final result to feed into the densely connected layers."
      ]
    },
    {
      "cell_type": "markdown",
      "metadata": {
        "id": "gokG5HKpdtzm"
      },
      "source": [
        "Finally we add the densely connected layers. \n",
        "\n",
        "Note that because we are facing a two-class classification problem, i.e. a *binary classification problem*, we will end our network with a [*sigmoid* activation](https://wikipedia.org/wiki/Sigmoid_function), so that the output of our network will be a single scalar between 0 and 1, encoding the probability that the current image is class 1 (as opposed to class 0)."
      ]
    },
    {
      "cell_type": "code",
      "metadata": {
        "id": "PixZ2s5QbYQ3"
      },
      "source": [
        "model = tf.keras.models.Sequential([\n",
        "    # Note the input shape is the desired size of the image 300x300 with 3 bytes color\n",
        "    # This is the first convolution\n",
        "    tf.keras.layers.Conv2D(16, (3,3), activation='relu', input_shape=(300, 300, 3)),\n",
        "    tf.keras.layers.MaxPooling2D(2, 2),\n",
        "    # The second convolution\n",
        "    tf.keras.layers.Conv2D(32, (3,3), activation='relu'),\n",
        "    tf.keras.layers.MaxPooling2D(2,2),\n",
        "    # The third convolution\n",
        "    tf.keras.layers.Conv2D(64, (3,3), activation='relu'),\n",
        "    tf.keras.layers.MaxPooling2D(2,2),\n",
        "    # The fourth convolution\n",
        "    tf.keras.layers.Conv2D(64, (3,3), activation='relu'),\n",
        "    tf.keras.layers.MaxPooling2D(2,2),\n",
        "    # The fifth convolution\n",
        "    tf.keras.layers.Conv2D(64, (3,3), activation='relu'),\n",
        "    tf.keras.layers.MaxPooling2D(2,2),\n",
        "    # Flatten the results to feed into a DNN\n",
        "    tf.keras.layers.Flatten(),\n",
        "    # 512 neuron hidden layer\n",
        "    tf.keras.layers.Dense(512, activation='relu'),\n",
        "    # Only 1 output neuron. It will contain a value from 0-1 where 0 for 1 class ('horses') and 1 for the other ('humans')\n",
        "    tf.keras.layers.Dense(1, activation='sigmoid')\n",
        "])"
      ],
      "execution_count": 3,
      "outputs": []
    },
    {
      "cell_type": "code",
      "metadata": {
        "id": "8DHWhFP_uhq3"
      },
      "source": [
        "from tensorflow.keras.optimizers import RMSprop\n",
        "\n",
        "model.compile(loss='binary_crossentropy',\n",
        "              optimizer=RMSprop(learning_rate=1e-4),\n",
        "              metrics=['accuracy'])"
      ],
      "execution_count": 4,
      "outputs": []
    },
    {
      "cell_type": "code",
      "metadata": {
        "id": "ClebU9NJg99G",
        "outputId": "9c2518d3-bdf4-4368-c2a8-42d0d2d03b50",
        "colab": {
          "base_uri": "https://localhost:8080/"
        }
      },
      "source": [
        "from tensorflow.keras.preprocessing.image import ImageDataGenerator\n",
        "\n",
        "# All images will be rescaled by 1./255\n",
        "train_datagen = ImageDataGenerator(\n",
        "      rescale=1./255,\n",
        "      rotation_range=40,\n",
        "      width_shift_range=0.2,\n",
        "      height_shift_range=0.2,\n",
        "      shear_range=0.2,\n",
        "      zoom_range=0.2,\n",
        "      horizontal_flip=True,\n",
        "      fill_mode='nearest')\n",
        "\n",
        "validation_datagen = ImageDataGenerator(rescale=1/255)\n",
        "\n",
        "# Flow training images in batches of 128 using train_datagen generator\n",
        "train_generator = train_datagen.flow_from_directory(\n",
        "        'tmp/horse-or-human/',  # This is the source directory for training images\n",
        "        target_size=(300, 300),  # All images will be resized to 150x150\n",
        "        batch_size=128,\n",
        "        # Since we use binary_crossentropy loss, we need binary labels\n",
        "        class_mode='binary')\n",
        "\n",
        "# Flow training images in batches of 128 using train_datagen generator\n",
        "validation_generator = validation_datagen.flow_from_directory(\n",
        "        'tmp/validation-horse-or-human/',  # This is the source directory for training images\n",
        "        target_size=(300, 300),  # All images will be resized to 150x150\n",
        "        batch_size=32,\n",
        "        # Since we use binary_crossentropy loss, we need binary labels\n",
        "        class_mode='binary')"
      ],
      "execution_count": 5,
      "outputs": [
        {
          "output_type": "stream",
          "name": "stdout",
          "text": [
            "Found 1027 images belonging to 2 classes.\n",
            "Found 256 images belonging to 2 classes.\n"
          ]
        }
      ]
    },
    {
      "cell_type": "code",
      "metadata": {
        "id": "Fb1_lgobv81m",
        "outputId": "f6dde755-ba8d-497d-e8b9-2d3e7842205e",
        "colab": {
          "base_uri": "https://localhost:8080/"
        }
      },
      "source": [
        "history = model.fit(\n",
        "      train_generator,\n",
        "      steps_per_epoch=8,  \n",
        "      epochs=100,\n",
        "      verbose=1,\n",
        "      validation_data = validation_generator,\n",
        "      validation_steps=8)"
      ],
      "execution_count": 6,
      "outputs": [
        {
          "output_type": "stream",
          "name": "stdout",
          "text": [
            "Epoch 1/100\n",
            "8/8 [==============================] - 35s 3s/step - loss: 0.6856 - accuracy: 0.5417 - val_loss: 0.6610 - val_accuracy: 0.7773\n",
            "Epoch 2/100\n",
            "8/8 [==============================] - 25s 3s/step - loss: 0.6706 - accuracy: 0.6652 - val_loss: 0.6555 - val_accuracy: 0.5391\n",
            "Epoch 3/100\n",
            "8/8 [==============================] - 25s 3s/step - loss: 0.6503 - accuracy: 0.6863 - val_loss: 0.6026 - val_accuracy: 0.6602\n",
            "Epoch 4/100\n",
            "8/8 [==============================] - 25s 3s/step - loss: 0.6538 - accuracy: 0.6919 - val_loss: 0.6141 - val_accuracy: 0.5781\n",
            "Epoch 5/100\n",
            "8/8 [==============================] - 25s 3s/step - loss: 0.6190 - accuracy: 0.6863 - val_loss: 0.5273 - val_accuracy: 0.7852\n",
            "Epoch 6/100\n",
            "8/8 [==============================] - 25s 3s/step - loss: 0.6409 - accuracy: 0.6707 - val_loss: 0.5604 - val_accuracy: 0.6719\n",
            "Epoch 7/100\n",
            "8/8 [==============================] - 25s 3s/step - loss: 0.5977 - accuracy: 0.7197 - val_loss: 0.5067 - val_accuracy: 0.7461\n",
            "Epoch 8/100\n",
            "8/8 [==============================] - 25s 3s/step - loss: 0.5655 - accuracy: 0.7453 - val_loss: 0.5890 - val_accuracy: 0.6406\n",
            "Epoch 9/100\n",
            "8/8 [==============================] - 25s 3s/step - loss: 0.5635 - accuracy: 0.7130 - val_loss: 0.5024 - val_accuracy: 0.7188\n",
            "Epoch 10/100\n",
            "8/8 [==============================] - 25s 3s/step - loss: 0.5652 - accuracy: 0.7086 - val_loss: 0.5220 - val_accuracy: 0.6914\n",
            "Epoch 11/100\n",
            "8/8 [==============================] - 25s 3s/step - loss: 0.5495 - accuracy: 0.7330 - val_loss: 0.7615 - val_accuracy: 0.5586\n",
            "Epoch 12/100\n",
            "8/8 [==============================] - 25s 3s/step - loss: 0.5386 - accuracy: 0.7497 - val_loss: 0.6402 - val_accuracy: 0.6484\n",
            "Epoch 13/100\n",
            "8/8 [==============================] - 25s 3s/step - loss: 0.5063 - accuracy: 0.7597 - val_loss: 0.8834 - val_accuracy: 0.5586\n",
            "Epoch 14/100\n",
            "8/8 [==============================] - 25s 3s/step - loss: 0.5373 - accuracy: 0.7353 - val_loss: 0.4976 - val_accuracy: 0.7344\n",
            "Epoch 15/100\n",
            "8/8 [==============================] - 25s 3s/step - loss: 0.5246 - accuracy: 0.7519 - val_loss: 0.6759 - val_accuracy: 0.6680\n",
            "Epoch 16/100\n",
            "8/8 [==============================] - 25s 3s/step - loss: 0.4701 - accuracy: 0.7998 - val_loss: 1.0464 - val_accuracy: 0.5586\n",
            "Epoch 17/100\n",
            "8/8 [==============================] - 25s 3s/step - loss: 0.5636 - accuracy: 0.7186 - val_loss: 0.6648 - val_accuracy: 0.6680\n",
            "Epoch 18/100\n",
            "8/8 [==============================] - 25s 3s/step - loss: 0.4634 - accuracy: 0.7920 - val_loss: 0.6287 - val_accuracy: 0.7070\n",
            "Epoch 19/100\n",
            "8/8 [==============================] - 25s 3s/step - loss: 0.4558 - accuracy: 0.7998 - val_loss: 0.8100 - val_accuracy: 0.6680\n",
            "Epoch 20/100\n",
            "8/8 [==============================] - 25s 3s/step - loss: 0.4622 - accuracy: 0.7631 - val_loss: 0.3556 - val_accuracy: 0.8477\n",
            "Epoch 21/100\n",
            "8/8 [==============================] - 25s 3s/step - loss: 0.4789 - accuracy: 0.7597 - val_loss: 0.6643 - val_accuracy: 0.7109\n",
            "Epoch 22/100\n",
            "8/8 [==============================] - 28s 3s/step - loss: 0.4146 - accuracy: 0.8125 - val_loss: 1.0182 - val_accuracy: 0.6211\n",
            "Epoch 23/100\n",
            "8/8 [==============================] - 25s 3s/step - loss: 0.4326 - accuracy: 0.8009 - val_loss: 0.9090 - val_accuracy: 0.6914\n",
            "Epoch 24/100\n",
            "8/8 [==============================] - 25s 3s/step - loss: 0.4108 - accuracy: 0.8198 - val_loss: 0.9111 - val_accuracy: 0.6875\n",
            "Epoch 25/100\n",
            "8/8 [==============================] - 25s 3s/step - loss: 0.4256 - accuracy: 0.8065 - val_loss: 0.2168 - val_accuracy: 0.9062\n",
            "Epoch 26/100\n",
            "8/8 [==============================] - 25s 3s/step - loss: 0.4832 - accuracy: 0.7898 - val_loss: 0.9202 - val_accuracy: 0.6797\n",
            "Epoch 27/100\n",
            "8/8 [==============================] - 25s 3s/step - loss: 0.3821 - accuracy: 0.8320 - val_loss: 1.2921 - val_accuracy: 0.6016\n",
            "Epoch 28/100\n",
            "8/8 [==============================] - 25s 3s/step - loss: 0.4094 - accuracy: 0.7964 - val_loss: 0.7853 - val_accuracy: 0.7227\n",
            "Epoch 29/100\n",
            "8/8 [==============================] - 25s 3s/step - loss: 0.4043 - accuracy: 0.8065 - val_loss: 0.9851 - val_accuracy: 0.6797\n",
            "Epoch 30/100\n",
            "8/8 [==============================] - 25s 3s/step - loss: 0.3738 - accuracy: 0.8320 - val_loss: 1.0771 - val_accuracy: 0.6875\n",
            "Epoch 31/100\n",
            "8/8 [==============================] - 24s 3s/step - loss: 0.3987 - accuracy: 0.8287 - val_loss: 1.3445 - val_accuracy: 0.6133\n",
            "Epoch 32/100\n",
            "8/8 [==============================] - 25s 3s/step - loss: 0.3952 - accuracy: 0.8187 - val_loss: 0.8603 - val_accuracy: 0.6992\n",
            "Epoch 33/100\n",
            "8/8 [==============================] - 28s 3s/step - loss: 0.3859 - accuracy: 0.8281 - val_loss: 0.8947 - val_accuracy: 0.6992\n",
            "Epoch 34/100\n",
            "8/8 [==============================] - 25s 3s/step - loss: 0.4340 - accuracy: 0.8009 - val_loss: 1.0235 - val_accuracy: 0.6797\n",
            "Epoch 35/100\n",
            "8/8 [==============================] - 25s 3s/step - loss: 0.3399 - accuracy: 0.8554 - val_loss: 0.9169 - val_accuracy: 0.6992\n",
            "Epoch 36/100\n",
            "8/8 [==============================] - 26s 3s/step - loss: 0.3592 - accuracy: 0.8354 - val_loss: 0.8698 - val_accuracy: 0.7031\n",
            "Epoch 37/100\n",
            "8/8 [==============================] - 27s 3s/step - loss: 0.3199 - accuracy: 0.8701 - val_loss: 1.5668 - val_accuracy: 0.6094\n",
            "Epoch 38/100\n",
            "8/8 [==============================] - 27s 3s/step - loss: 0.3981 - accuracy: 0.8154 - val_loss: 1.5097 - val_accuracy: 0.6172\n",
            "Epoch 39/100\n",
            "8/8 [==============================] - 25s 3s/step - loss: 0.3094 - accuracy: 0.8665 - val_loss: 1.0669 - val_accuracy: 0.6953\n",
            "Epoch 40/100\n",
            "8/8 [==============================] - 25s 3s/step - loss: 0.3557 - accuracy: 0.8576 - val_loss: 1.1875 - val_accuracy: 0.6445\n",
            "Epoch 41/100\n",
            "8/8 [==============================] - 25s 3s/step - loss: 0.3075 - accuracy: 0.8654 - val_loss: 1.9726 - val_accuracy: 0.5703\n",
            "Epoch 42/100\n",
            "8/8 [==============================] - 25s 3s/step - loss: 0.3874 - accuracy: 0.8532 - val_loss: 1.3470 - val_accuracy: 0.6406\n",
            "Epoch 43/100\n",
            "8/8 [==============================] - 24s 3s/step - loss: 0.3111 - accuracy: 0.8576 - val_loss: 1.9935 - val_accuracy: 0.5664\n",
            "Epoch 44/100\n",
            "8/8 [==============================] - 24s 3s/step - loss: 0.3122 - accuracy: 0.8776 - val_loss: 1.5482 - val_accuracy: 0.6211\n",
            "Epoch 45/100\n",
            "8/8 [==============================] - 24s 3s/step - loss: 0.2904 - accuracy: 0.8788 - val_loss: 1.9925 - val_accuracy: 0.5820\n",
            "Epoch 46/100\n",
            "8/8 [==============================] - 24s 3s/step - loss: 0.2753 - accuracy: 0.8888 - val_loss: 2.3844 - val_accuracy: 0.5625\n",
            "Epoch 47/100\n",
            "8/8 [==============================] - 27s 3s/step - loss: 0.2930 - accuracy: 0.8730 - val_loss: 2.0470 - val_accuracy: 0.5898\n",
            "Epoch 48/100\n",
            "8/8 [==============================] - 27s 3s/step - loss: 0.3257 - accuracy: 0.8652 - val_loss: 1.4936 - val_accuracy: 0.6133\n",
            "Epoch 49/100\n",
            "8/8 [==============================] - 25s 3s/step - loss: 0.2701 - accuracy: 0.8943 - val_loss: 1.5454 - val_accuracy: 0.6523\n",
            "Epoch 50/100\n",
            "8/8 [==============================] - 24s 3s/step - loss: 0.2919 - accuracy: 0.8687 - val_loss: 2.4260 - val_accuracy: 0.5586\n",
            "Epoch 51/100\n",
            "8/8 [==============================] - 24s 3s/step - loss: 0.3065 - accuracy: 0.8654 - val_loss: 1.7859 - val_accuracy: 0.6328\n",
            "Epoch 52/100\n",
            "8/8 [==============================] - 25s 3s/step - loss: 0.3506 - accuracy: 0.8543 - val_loss: 1.9056 - val_accuracy: 0.6055\n",
            "Epoch 53/100\n",
            "8/8 [==============================] - 25s 3s/step - loss: 0.3522 - accuracy: 0.8621 - val_loss: 2.3558 - val_accuracy: 0.5898\n",
            "Epoch 54/100\n",
            "8/8 [==============================] - 24s 3s/step - loss: 0.2531 - accuracy: 0.9077 - val_loss: 1.5773 - val_accuracy: 0.6406\n",
            "Epoch 55/100\n",
            "8/8 [==============================] - 25s 3s/step - loss: 0.2598 - accuracy: 0.8988 - val_loss: 1.7481 - val_accuracy: 0.6367\n",
            "Epoch 56/100\n",
            "8/8 [==============================] - 25s 3s/step - loss: 0.3002 - accuracy: 0.8865 - val_loss: 1.4991 - val_accuracy: 0.6758\n",
            "Epoch 57/100\n",
            "8/8 [==============================] - 25s 3s/step - loss: 0.2934 - accuracy: 0.8721 - val_loss: 1.3187 - val_accuracy: 0.6992\n",
            "Epoch 58/100\n",
            "8/8 [==============================] - 25s 3s/step - loss: 0.2290 - accuracy: 0.9099 - val_loss: 1.6872 - val_accuracy: 0.6523\n",
            "Epoch 59/100\n",
            "8/8 [==============================] - 25s 3s/step - loss: 0.4050 - accuracy: 0.8543 - val_loss: 2.1518 - val_accuracy: 0.6094\n",
            "Epoch 60/100\n",
            "8/8 [==============================] - 25s 3s/step - loss: 0.2335 - accuracy: 0.9032 - val_loss: 2.0303 - val_accuracy: 0.6367\n",
            "Epoch 61/100\n",
            "8/8 [==============================] - 27s 3s/step - loss: 0.2480 - accuracy: 0.8916 - val_loss: 1.3228 - val_accuracy: 0.7031\n",
            "Epoch 62/100\n",
            "8/8 [==============================] - 25s 3s/step - loss: 0.2794 - accuracy: 0.8788 - val_loss: 1.8010 - val_accuracy: 0.6445\n",
            "Epoch 63/100\n",
            "8/8 [==============================] - 24s 3s/step - loss: 0.2680 - accuracy: 0.8843 - val_loss: 1.6997 - val_accuracy: 0.6523\n",
            "Epoch 64/100\n",
            "8/8 [==============================] - 24s 3s/step - loss: 0.2302 - accuracy: 0.9121 - val_loss: 2.4403 - val_accuracy: 0.5820\n",
            "Epoch 65/100\n",
            "8/8 [==============================] - 24s 3s/step - loss: 0.2788 - accuracy: 0.8821 - val_loss: 1.3596 - val_accuracy: 0.7109\n",
            "Epoch 66/100\n",
            "8/8 [==============================] - 24s 3s/step - loss: 0.2817 - accuracy: 0.8943 - val_loss: 1.5631 - val_accuracy: 0.6562\n",
            "Epoch 67/100\n",
            "8/8 [==============================] - 24s 3s/step - loss: 0.2559 - accuracy: 0.8943 - val_loss: 2.0807 - val_accuracy: 0.6172\n",
            "Epoch 68/100\n",
            "8/8 [==============================] - 27s 3s/step - loss: 0.2032 - accuracy: 0.9287 - val_loss: 2.5989 - val_accuracy: 0.6016\n",
            "Epoch 69/100\n",
            "8/8 [==============================] - 24s 3s/step - loss: 0.2743 - accuracy: 0.8910 - val_loss: 2.2293 - val_accuracy: 0.6406\n",
            "Epoch 70/100\n",
            "8/8 [==============================] - 24s 3s/step - loss: 0.2513 - accuracy: 0.8954 - val_loss: 3.4134 - val_accuracy: 0.5586\n",
            "Epoch 71/100\n",
            "8/8 [==============================] - 24s 3s/step - loss: 0.2045 - accuracy: 0.9177 - val_loss: 2.2085 - val_accuracy: 0.6328\n",
            "Epoch 72/100\n",
            "8/8 [==============================] - 24s 3s/step - loss: 0.2334 - accuracy: 0.8988 - val_loss: 1.9584 - val_accuracy: 0.6445\n",
            "Epoch 73/100\n",
            "8/8 [==============================] - 27s 3s/step - loss: 0.1726 - accuracy: 0.9395 - val_loss: 2.2837 - val_accuracy: 0.6445\n",
            "Epoch 74/100\n",
            "8/8 [==============================] - 24s 3s/step - loss: 0.2277 - accuracy: 0.8888 - val_loss: 2.2155 - val_accuracy: 0.6172\n",
            "Epoch 75/100\n",
            "8/8 [==============================] - 27s 3s/step - loss: 0.2024 - accuracy: 0.9268 - val_loss: 3.0357 - val_accuracy: 0.5703\n",
            "Epoch 76/100\n",
            "8/8 [==============================] - 24s 3s/step - loss: 0.2482 - accuracy: 0.9021 - val_loss: 1.8033 - val_accuracy: 0.6602\n",
            "Epoch 77/100\n",
            "8/8 [==============================] - 25s 3s/step - loss: 0.2085 - accuracy: 0.9099 - val_loss: 1.6033 - val_accuracy: 0.6758\n",
            "Epoch 78/100\n",
            "8/8 [==============================] - 25s 3s/step - loss: 0.2319 - accuracy: 0.9055 - val_loss: 2.1326 - val_accuracy: 0.6523\n",
            "Epoch 79/100\n",
            "8/8 [==============================] - 25s 3s/step - loss: 0.2513 - accuracy: 0.8966 - val_loss: 2.3864 - val_accuracy: 0.6211\n",
            "Epoch 80/100\n",
            "8/8 [==============================] - 27s 3s/step - loss: 0.1965 - accuracy: 0.9219 - val_loss: 1.6722 - val_accuracy: 0.6641\n",
            "Epoch 81/100\n",
            "8/8 [==============================] - 24s 3s/step - loss: 0.2029 - accuracy: 0.9121 - val_loss: 3.5008 - val_accuracy: 0.5391\n",
            "Epoch 82/100\n",
            "8/8 [==============================] - 24s 3s/step - loss: 0.2215 - accuracy: 0.9155 - val_loss: 2.5133 - val_accuracy: 0.6289\n",
            "Epoch 83/100\n",
            "8/8 [==============================] - 24s 3s/step - loss: 0.2184 - accuracy: 0.9032 - val_loss: 2.6548 - val_accuracy: 0.6328\n",
            "Epoch 84/100\n",
            "8/8 [==============================] - 25s 3s/step - loss: 0.2627 - accuracy: 0.9043 - val_loss: 2.0893 - val_accuracy: 0.6445\n",
            "Epoch 85/100\n",
            "8/8 [==============================] - 25s 3s/step - loss: 0.1574 - accuracy: 0.9466 - val_loss: 1.5718 - val_accuracy: 0.6914\n",
            "Epoch 86/100\n",
            "8/8 [==============================] - 25s 3s/step - loss: 0.3174 - accuracy: 0.8765 - val_loss: 2.1744 - val_accuracy: 0.6445\n",
            "Epoch 87/100\n",
            "8/8 [==============================] - 25s 3s/step - loss: 0.2431 - accuracy: 0.9088 - val_loss: 2.4966 - val_accuracy: 0.6328\n",
            "Epoch 88/100\n",
            "8/8 [==============================] - 25s 3s/step - loss: 0.1796 - accuracy: 0.9255 - val_loss: 2.4895 - val_accuracy: 0.6328\n",
            "Epoch 89/100\n",
            "8/8 [==============================] - 25s 3s/step - loss: 0.2016 - accuracy: 0.9099 - val_loss: 2.2323 - val_accuracy: 0.6484\n",
            "Epoch 90/100\n",
            "8/8 [==============================] - 25s 4s/step - loss: 0.1751 - accuracy: 0.9388 - val_loss: 2.1025 - val_accuracy: 0.6523\n",
            "Epoch 91/100\n",
            "8/8 [==============================] - 25s 3s/step - loss: 0.1950 - accuracy: 0.9221 - val_loss: 3.1394 - val_accuracy: 0.5742\n",
            "Epoch 92/100\n",
            "8/8 [==============================] - 25s 3s/step - loss: 0.1568 - accuracy: 0.9488 - val_loss: 1.6996 - val_accuracy: 0.7031\n",
            "Epoch 93/100\n",
            "8/8 [==============================] - 25s 3s/step - loss: 0.1740 - accuracy: 0.9288 - val_loss: 5.1504 - val_accuracy: 0.5156\n",
            "Epoch 94/100\n",
            "8/8 [==============================] - 25s 3s/step - loss: 0.1966 - accuracy: 0.9210 - val_loss: 1.8847 - val_accuracy: 0.6562\n",
            "Epoch 95/100\n",
            "8/8 [==============================] - 26s 3s/step - loss: 0.1979 - accuracy: 0.9244 - val_loss: 2.8991 - val_accuracy: 0.6094\n",
            "Epoch 96/100\n",
            "8/8 [==============================] - 25s 3s/step - loss: 0.1731 - accuracy: 0.9366 - val_loss: 2.2599 - val_accuracy: 0.6445\n",
            "Epoch 97/100\n",
            "8/8 [==============================] - 25s 3s/step - loss: 0.1697 - accuracy: 0.9321 - val_loss: 0.7386 - val_accuracy: 0.8281\n",
            "Epoch 98/100\n",
            "8/8 [==============================] - 26s 3s/step - loss: 0.2022 - accuracy: 0.9188 - val_loss: 2.5534 - val_accuracy: 0.6445\n",
            "Epoch 99/100\n",
            "8/8 [==============================] - 24s 3s/step - loss: 0.1912 - accuracy: 0.9232 - val_loss: 2.8377 - val_accuracy: 0.5664\n",
            "Epoch 100/100\n",
            "8/8 [==============================] - 25s 3s/step - loss: 0.2006 - accuracy: 0.9255 - val_loss: 1.9483 - val_accuracy: 0.6641\n"
          ]
        }
      ]
    },
    {
      "cell_type": "code",
      "metadata": {
        "id": "7zNPRWOVJdOH",
        "outputId": "7d4dbd43-c06c-41d5-ff8c-4f4c703aeb1d",
        "colab": {
          "base_uri": "https://localhost:8080/",
          "height": 544
        }
      },
      "source": [
        "import matplotlib.pyplot as plt\n",
        "acc = history.history['accuracy']\n",
        "val_acc = history.history['val_accuracy']\n",
        "loss = history.history['loss']\n",
        "val_loss = history.history['val_loss']\n",
        "\n",
        "epochs = range(len(acc))\n",
        "\n",
        "plt.plot(epochs, acc, 'r', label='Training accuracy')\n",
        "plt.plot(epochs, val_acc, 'b', label='Validation accuracy')\n",
        "plt.title('Training and validation accuracy')\n",
        "\n",
        "plt.figure()\n",
        "\n",
        "plt.plot(epochs, loss, 'r', label='Training Loss')\n",
        "plt.plot(epochs, val_loss, 'b', label='Validation Loss')\n",
        "plt.title('Training and validation loss')\n",
        "plt.legend()\n",
        "\n",
        "plt.show()"
      ],
      "execution_count": 7,
      "outputs": [
        {
          "output_type": "display_data",
          "data": {
            "image/png": "[encoded data removed]",
            "text/plain": [
              "<Figure size 432x288 with 1 Axes>"
            ]
          },
          "metadata": {
            "needs_background": "light"
          }
        },
        {
          "output_type": "display_data",
          "data": {
            "image/png": "[encoded data removed]",
            "text/plain": [
              "<Figure size 432x288 with 1 Axes>"
            ]
          },
          "metadata": {
            "needs_background": "light"
          }
        }
      ]
    }
  ]
}